{
 "cells": [
  {
   "cell_type": "markdown",
   "metadata": {},
   "source": [
    "## 1. Business understanding"
   ]
  },
  {
   "cell_type": "markdown",
   "metadata": {},
   "source": [
    "### Objectives\n",
    "\n",
    "Perform sentiment analysis of tweets in real time."
   ]
  },
  {
   "cell_type": "markdown",
   "metadata": {},
   "source": [
    "### Success criteria\n",
    "\n",
    "The project will be considered successful if the resulting model will work with accuracy of 70% or higher. Results should be produced with a delay no bigger than 1 second."
   ]
  },
  {
   "cell_type": "markdown",
   "metadata": {},
   "source": [
    "### Project plan\n",
    "\n",
    "1. Examine the data provided by the Twitter Streaming API.\n",
    "1. Fetch a set of tweets that will be used for training purposes.\n",
    "1. Explore the data gathered in the sample.\n",
    "1. Label the training data\n",
    "1. Build and evaluate models\n",
    "1. Create a spark job that will use the best prediction model\n",
    "1. Deploy the job to a preset spark cluster"
   ]
  },
  {
   "cell_type": "markdown",
   "metadata": {},
   "source": [
    "## 2. Data understanding"
   ]
  },
  {
   "cell_type": "markdown",
   "metadata": {},
   "source": [
    "### Collect data\n",
    "Fetch tweets using the Twitter Streaming API and store them in Kafka."
   ]
  },
  {
   "cell_type": "code",
   "execution_count": 20,
   "metadata": {
    "collapsed": true
   },
   "outputs": [],
   "source": [
    "from notebook_client.notebook_client import NotebookClient"
   ]
  },
  {
   "cell_type": "code",
   "execution_count": 21,
   "metadata": {
    "collapsed": true
   },
   "outputs": [],
   "source": [
    "nc = NotebookClient()\n",
    "nc.initialize_producers_manager_connection()\n",
    "nc.initialize_sampler_manager_connection()"
   ]
  },
  {
   "cell_type": "code",
   "execution_count": 322,
   "metadata": {
    "collapsed": true
   },
   "outputs": [],
   "source": [
    "producer_pid = nc.start_streaming('usa_stream', { 'locations': '-125.75,30.8,-70,45' })"
   ]
  },
  {
   "cell_type": "code",
   "execution_count": 47,
   "metadata": {
    "collapsed": true
   },
   "outputs": [],
   "source": [
    "reservoir_size = 5\n",
    "limit = 10\n",
    "nc.start_sampling('san_stream', 'london_sample', reservoir_size, limit)"
   ]
  },
  {
   "cell_type": "code",
   "execution_count": 317,
   "metadata": {},
   "outputs": [
    {
     "data": {
      "text/plain": [
       "'not found'"
      ]
     },
     "execution_count": 317,
     "metadata": {},
     "output_type": "execute_result"
    }
   ],
   "source": [
    "nc.streaming_status(producer_pid)"
   ]
  },
  {
   "cell_type": "code",
   "execution_count": 50,
   "metadata": {},
   "outputs": [
    {
     "data": {
      "text/plain": [
       "'finished'"
      ]
     },
     "execution_count": 50,
     "metadata": {},
     "output_type": "execute_result"
    }
   ],
   "source": [
    "nc.sampling_status()"
   ]
  },
  {
   "cell_type": "code",
   "execution_count": 338,
   "metadata": {},
   "outputs": [
    {
     "data": {
      "text/plain": [
       "'stopped'"
      ]
     },
     "execution_count": 338,
     "metadata": {},
     "output_type": "execute_result"
    }
   ],
   "source": [
    "nc.stop_streaming(producer_pid)"
   ]
  },
  {
   "cell_type": "code",
   "execution_count": 43,
   "metadata": {},
   "outputs": [
    {
     "data": {
      "text/plain": [
       "'stopped'"
      ]
     },
     "execution_count": 43,
     "metadata": {},
     "output_type": "execute_result"
    }
   ],
   "source": [
    "nc.stop_sampling()"
   ]
  },
  {
   "cell_type": "markdown",
   "metadata": {},
   "source": [
    "#### Load collected data from Kafka"
   ]
  },
  {
   "cell_type": "code",
   "execution_count": 22,
   "metadata": {},
   "outputs": [],
   "source": [
    "from kafka import KafkaConsumer\n",
    "\n",
    "consumer = KafkaConsumer('usa_stream', bootstrap_servers='kafka')\n",
    "consumer.topics()\n",
    "partition = consumer.assignment().pop()"
   ]
  },
  {
   "cell_type": "code",
   "execution_count": 23,
   "metadata": {},
   "outputs": [],
   "source": [
    "consumer.seek_to_end()\n",
    "tweets_count = consumer.position(partition)\n",
    "consumer.seek_to_beginning()"
   ]
  },
  {
   "cell_type": "code",
   "execution_count": 17,
   "metadata": {},
   "outputs": [
    {
     "data": {
      "text/plain": [
       "808336"
      ]
     },
     "execution_count": 17,
     "metadata": {},
     "output_type": "execute_result"
    }
   ],
   "source": [
    "tweets_count"
   ]
  },
  {
   "cell_type": "code",
   "execution_count": 24,
   "metadata": {
    "collapsed": true
   },
   "outputs": [],
   "source": [
    "import json"
   ]
  },
  {
   "cell_type": "code",
   "execution_count": 25,
   "metadata": {
    "collapsed": true
   },
   "outputs": [],
   "source": [
    "data = map(lambda t: json.loads(t.value.decode('utf-8')), consumer)"
   ]
  },
  {
   "cell_type": "markdown",
   "metadata": {},
   "source": [
    "#### Check what a sample tweet object looks like."
   ]
  },
  {
   "cell_type": "code",
   "execution_count": 20,
   "metadata": {},
   "outputs": [
    {
     "data": {
      "text/plain": [
       "{'contributors': None,\n",
       " 'coordinates': None,\n",
       " 'created_at': 'Thu Aug 31 10:41:10 +0000 2017',\n",
       " 'display_text_range': [0, 55],\n",
       " 'entities': {'hashtags': [{'indices': [11, 29], 'text': 'TrinidadandTobago'},\n",
       "   {'indices': [31, 38], 'text': 'Repost'}],\n",
       "  'media': [{'display_url': 'pic.twitter.com/tUZbpY8meO',\n",
       "    'expanded_url': 'https://twitter.com/dyschick/status/903206020339699713/video/1',\n",
       "    'id': 903205935727779840,\n",
       "    'id_str': '903205935727779840',\n",
       "    'indices': [56, 79],\n",
       "    'media_url': 'http://pbs.twimg.com/ext_tw_video_thumb/903205935727779840/pu/img/79Rjyir-dcmfFMRs.jpg',\n",
       "    'media_url_https': 'https://pbs.twimg.com/ext_tw_video_thumb/903205935727779840/pu/img/79Rjyir-dcmfFMRs.jpg',\n",
       "    'sizes': {'large': {'h': 640, 'resize': 'fit', 'w': 640},\n",
       "     'medium': {'h': 600, 'resize': 'fit', 'w': 600},\n",
       "     'small': {'h': 340, 'resize': 'fit', 'w': 340},\n",
       "     'thumb': {'h': 150, 'resize': 'crop', 'w': 150}},\n",
       "    'type': 'photo',\n",
       "    'url': 'https://t.co/tUZbpY8meO'}],\n",
       "  'symbols': [],\n",
       "  'urls': [],\n",
       "  'user_mentions': [{'id': 212351525,\n",
       "    'id_str': '212351525',\n",
       "    'indices': [39, 55],\n",
       "    'name': 'RemBunction',\n",
       "    'screen_name': 'RemyRemBunction'}]},\n",
       " 'extended_entities': {'media': [{'display_url': 'pic.twitter.com/tUZbpY8meO',\n",
       "    'expanded_url': 'https://twitter.com/dyschick/status/903206020339699713/video/1',\n",
       "    'id': 903205935727779840,\n",
       "    'id_str': '903205935727779840',\n",
       "    'indices': [56, 79],\n",
       "    'media_url': 'http://pbs.twimg.com/ext_tw_video_thumb/903205935727779840/pu/img/79Rjyir-dcmfFMRs.jpg',\n",
       "    'media_url_https': 'https://pbs.twimg.com/ext_tw_video_thumb/903205935727779840/pu/img/79Rjyir-dcmfFMRs.jpg',\n",
       "    'sizes': {'large': {'h': 640, 'resize': 'fit', 'w': 640},\n",
       "     'medium': {'h': 600, 'resize': 'fit', 'w': 600},\n",
       "     'small': {'h': 340, 'resize': 'fit', 'w': 340},\n",
       "     'thumb': {'h': 150, 'resize': 'crop', 'w': 150}},\n",
       "    'type': 'video',\n",
       "    'url': 'https://t.co/tUZbpY8meO',\n",
       "    'video_info': {'aspect_ratio': [1, 1],\n",
       "     'duration_millis': 59091,\n",
       "     'variants': [{'content_type': 'application/x-mpegURL',\n",
       "       'url': 'https://video.twimg.com/ext_tw_video/903205935727779840/pu/pl/l1nIdDPTwL3zHIdx.m3u8'},\n",
       "      {'bitrate': 832000,\n",
       "       'content_type': 'video/mp4',\n",
       "       'url': 'https://video.twimg.com/ext_tw_video/903205935727779840/pu/vid/480x480/dS4fPY14FQjC5DKu.mp4'},\n",
       "      {'bitrate': 320000,\n",
       "       'content_type': 'video/mp4',\n",
       "       'url': 'https://video.twimg.com/ext_tw_video/903205935727779840/pu/vid/240x240/jUdgWMYXBvtUBxG9.mp4'}]}}]},\n",
       " 'favorite_count': 0,\n",
       " 'favorited': False,\n",
       " 'filter_level': 'low',\n",
       " 'geo': None,\n",
       " 'id': 903206020339699713,\n",
       " 'id_str': '903206020339699713',\n",
       " 'in_reply_to_screen_name': None,\n",
       " 'in_reply_to_status_id': None,\n",
       " 'in_reply_to_status_id_str': None,\n",
       " 'in_reply_to_user_id': None,\n",
       " 'in_reply_to_user_id_str': None,\n",
       " 'is_quote_status': False,\n",
       " 'lang': 'en',\n",
       " 'place': {'attributes': {},\n",
       "  'bounding_box': {'coordinates': [[[-74.041878, 40.570842],\n",
       "     [-74.041878, 40.739434],\n",
       "     [-73.855673, 40.739434],\n",
       "     [-73.855673, 40.570842]]],\n",
       "   'type': 'Polygon'},\n",
       "  'country': 'United States',\n",
       "  'country_code': 'US',\n",
       "  'full_name': 'Brooklyn, NY',\n",
       "  'id': '011add077f4d2da3',\n",
       "  'name': 'Brooklyn',\n",
       "  'place_type': 'city',\n",
       "  'url': 'https://api.twitter.com/1.1/geo/id/011add077f4d2da3.json'},\n",
       " 'possibly_sensitive': False,\n",
       " 'quote_count': 0,\n",
       " 'reply_count': 0,\n",
       " 'retweet_count': 0,\n",
       " 'retweeted': False,\n",
       " 'source': '<a href=\"http://twitter.com/download/iphone\" rel=\"nofollow\">Twitter for iPhone</a>',\n",
       " 'text': 'Happy 55th #TrinidadandTobago!\\n#Repost @RemyRemBunction https://t.co/tUZbpY8meO',\n",
       " 'timestamp_ms': '1504176070662',\n",
       " 'truncated': False,\n",
       " 'user': {'contributors_enabled': False,\n",
       "  'created_at': 'Wed Jan 05 03:07:53 +0000 2011',\n",
       "  'default_profile': False,\n",
       "  'default_profile_image': False,\n",
       "  'description': 'Cultural Travel Blogger / Brooklynite 🇬🇾 deanna@dyschick.com',\n",
       "  'favourites_count': 707,\n",
       "  'follow_request_sent': None,\n",
       "  'followers_count': 526,\n",
       "  'following': None,\n",
       "  'friends_count': 513,\n",
       "  'geo_enabled': True,\n",
       "  'id': 234214779,\n",
       "  'id_str': '234214779',\n",
       "  'is_translator': False,\n",
       "  'lang': 'en',\n",
       "  'listed_count': 57,\n",
       "  'location': 'Brooklyn, NY',\n",
       "  'name': 'DysChick',\n",
       "  'notifications': None,\n",
       "  'profile_background_color': 'FFF04D',\n",
       "  'profile_background_image_url': 'http://pbs.twimg.com/profile_background_images/710109378/5bff1907a39a973b805674f5865c0f70.jpeg',\n",
       "  'profile_background_image_url_https': 'https://pbs.twimg.com/profile_background_images/710109378/5bff1907a39a973b805674f5865c0f70.jpeg',\n",
       "  'profile_background_tile': True,\n",
       "  'profile_banner_url': 'https://pbs.twimg.com/profile_banners/234214779/1405828626',\n",
       "  'profile_image_url': 'http://pbs.twimg.com/profile_images/872124333992411136/q_MtouaB_normal.jpg',\n",
       "  'profile_image_url_https': 'https://pbs.twimg.com/profile_images/872124333992411136/q_MtouaB_normal.jpg',\n",
       "  'profile_link_color': '0099CC',\n",
       "  'profile_sidebar_border_color': '000000',\n",
       "  'profile_sidebar_fill_color': 'F6FFD1',\n",
       "  'profile_text_color': '333333',\n",
       "  'profile_use_background_image': True,\n",
       "  'protected': False,\n",
       "  'screen_name': 'dyschick',\n",
       "  'statuses_count': 16328,\n",
       "  'time_zone': 'Atlantic Time (Canada)',\n",
       "  'translator_type': 'none',\n",
       "  'url': 'https://m.youtube.com/watch?v=Iy9V6w_bS08&feature=youtu.be',\n",
       "  'utc_offset': -10800,\n",
       "  'verified': False}}"
      ]
     },
     "execution_count": 20,
     "metadata": {},
     "output_type": "execute_result"
    }
   ],
   "source": [
    "data.__next__()"
   ]
  },
  {
   "cell_type": "markdown",
   "metadata": {},
   "source": [
    "Tweet objects contain a lot of properties useless in our case. The two meaningful fields are _id_ (numeric) and _text_ (string)."
   ]
  },
  {
   "cell_type": "markdown",
   "metadata": {},
   "source": [
    "#### Extract useful properties and load them into a data frame."
   ]
  },
  {
   "cell_type": "code",
   "execution_count": 26,
   "metadata": {
    "collapsed": true
   },
   "outputs": [],
   "source": [
    "def parse_tweet(data):\n",
    "    return { 'id': data.get('id'), 'text': data.get('text') }"
   ]
  },
  {
   "cell_type": "code",
   "execution_count": 27,
   "metadata": {
    "collapsed": true
   },
   "outputs": [],
   "source": [
    "import pandas as pd\n",
    "\n",
    "pd.set_option(\"display.max_colwidth\", 150)"
   ]
  },
  {
   "cell_type": "code",
   "execution_count": 28,
   "metadata": {},
   "outputs": [],
   "source": [
    "consumer.seek_to_beginning()\n",
    "data = map(lambda t: json.loads(t.value.decode('utf-8')), consumer)\n",
    "parsed_data = map(lambda x: parse_tweet(x), data)\n",
    "df = pd.DataFrame([parsed_data.__next__() for i in range(tweets_count)])"
   ]
  },
  {
   "cell_type": "markdown",
   "metadata": {},
   "source": [
    "#### Explore the data"
   ]
  },
  {
   "cell_type": "code",
   "execution_count": 29,
   "metadata": {},
   "outputs": [
    {
     "data": {
      "text/html": [
       "<div>\n",
       "<table border=\"1\" class=\"dataframe\">\n",
       "  <thead>\n",
       "    <tr style=\"text-align: right;\">\n",
       "      <th></th>\n",
       "      <th>id</th>\n",
       "      <th>text</th>\n",
       "    </tr>\n",
       "  </thead>\n",
       "  <tbody>\n",
       "    <tr>\n",
       "      <th>0</th>\n",
       "      <td>9.032060e+17</td>\n",
       "      <td>Happy 55th #TrinidadandTobago!\\n#Repost @RemyRemBunction https://t.co/tUZbpY8meO</td>\n",
       "    </tr>\n",
       "    <tr>\n",
       "      <th>1</th>\n",
       "      <td>9.032060e+17</td>\n",
       "      <td>Stupid Easy Trivia happens now with @toddandjayde! Play with us to CLAIM YOUR THRONE!</td>\n",
       "    </tr>\n",
       "    <tr>\n",
       "      <th>2</th>\n",
       "      <td>9.032060e+17</td>\n",
       "      <td>Yes but I miss Hillary more https://t.co/FS4hJTVzTl</td>\n",
       "    </tr>\n",
       "    <tr>\n",
       "      <th>3</th>\n",
       "      <td>9.032060e+17</td>\n",
       "      <td>Just posted a photo @ Gladstone, Missouri https://t.co/YFpvmBPTxs</td>\n",
       "    </tr>\n",
       "    <tr>\n",
       "      <th>4</th>\n",
       "      <td>9.032060e+17</td>\n",
       "      <td>i have so much fun here. wish you were here. https://t.co/DvBlLLXEV3</td>\n",
       "    </tr>\n",
       "  </tbody>\n",
       "</table>\n",
       "</div>"
      ],
      "text/plain": [
       "             id  \\\n",
       "0  9.032060e+17   \n",
       "1  9.032060e+17   \n",
       "2  9.032060e+17   \n",
       "3  9.032060e+17   \n",
       "4  9.032060e+17   \n",
       "\n",
       "                                                                                    text  \n",
       "0       Happy 55th #TrinidadandTobago!\\n#Repost @RemyRemBunction https://t.co/tUZbpY8meO  \n",
       "1  Stupid Easy Trivia happens now with @toddandjayde! Play with us to CLAIM YOUR THRONE!  \n",
       "2                                    Yes but I miss Hillary more https://t.co/FS4hJTVzTl  \n",
       "3                      Just posted a photo @ Gladstone, Missouri https://t.co/YFpvmBPTxs  \n",
       "4                   i have so much fun here. wish you were here. https://t.co/DvBlLLXEV3  "
      ]
     },
     "execution_count": 29,
     "metadata": {},
     "output_type": "execute_result"
    }
   ],
   "source": [
    "df.head()"
   ]
  },
  {
   "cell_type": "code",
   "execution_count": 86,
   "metadata": {},
   "outputs": [
    {
     "data": {
      "text/html": [
       "<div>\n",
       "<table border=\"1\" class=\"dataframe\">\n",
       "  <thead>\n",
       "    <tr style=\"text-align: right;\">\n",
       "      <th></th>\n",
       "      <th>id</th>\n",
       "      <th>text</th>\n",
       "    </tr>\n",
       "  </thead>\n",
       "  <tbody>\n",
       "    <tr>\n",
       "      <th>808330</th>\n",
       "      <td>9.039561e+17</td>\n",
       "      <td>Lmaooooooo https://t.co/CyyZewelQL</td>\n",
       "    </tr>\n",
       "    <tr>\n",
       "      <th>808331</th>\n",
       "      <td>9.039561e+17</td>\n",
       "      <td>These last 2 days, boyyyyy. Have been the worst.</td>\n",
       "    </tr>\n",
       "    <tr>\n",
       "      <th>808332</th>\n",
       "      <td>9.039561e+17</td>\n",
       "      <td>This nigga is tweeting like he know me. All I said was shut up and he tweeted me 4 times lmaooooooooo https://t.co/4GI3Ogykrd</td>\n",
       "    </tr>\n",
       "    <tr>\n",
       "      <th>808333</th>\n",
       "      <td>9.039561e+17</td>\n",
       "      <td>If you're looking for work in #MtPleasant, MI, check out this #job: https://t.co/Ik6kX1FChQ #CustomerService #Hiring #CareerArc</td>\n",
       "    </tr>\n",
       "    <tr>\n",
       "      <th>808334</th>\n",
       "      <td>9.039561e+17</td>\n",
       "      <td>Haha to funny 😂 https://t.co/UoqVOjj06a</td>\n",
       "    </tr>\n",
       "  </tbody>\n",
       "</table>\n",
       "</div>"
      ],
      "text/plain": [
       "                  id  \\\n",
       "808330  9.039561e+17   \n",
       "808331  9.039561e+17   \n",
       "808332  9.039561e+17   \n",
       "808333  9.039561e+17   \n",
       "808334  9.039561e+17   \n",
       "\n",
       "                                                                                                                                   text  \n",
       "808330                                                                                               Lmaooooooo https://t.co/CyyZewelQL  \n",
       "808331                                                                                 These last 2 days, boyyyyy. Have been the worst.  \n",
       "808332    This nigga is tweeting like he know me. All I said was shut up and he tweeted me 4 times lmaooooooooo https://t.co/4GI3Ogykrd  \n",
       "808333  If you're looking for work in #MtPleasant, MI, check out this #job: https://t.co/Ik6kX1FChQ #CustomerService #Hiring #CareerArc  \n",
       "808334                                                                                          Haha to funny 😂 https://t.co/UoqVOjj06a  "
      ]
     },
     "execution_count": 86,
     "metadata": {},
     "output_type": "execute_result"
    }
   ],
   "source": [
    "df.tail()"
   ]
  },
  {
   "cell_type": "code",
   "execution_count": 95,
   "metadata": {},
   "outputs": [
    {
     "data": {
      "text/html": [
       "<div>\n",
       "<table border=\"1\" class=\"dataframe\">\n",
       "  <thead>\n",
       "    <tr style=\"text-align: right;\">\n",
       "      <th></th>\n",
       "      <th>id</th>\n",
       "      <th>text</th>\n",
       "    </tr>\n",
       "  </thead>\n",
       "  <tbody>\n",
       "    <tr>\n",
       "      <th>232069</th>\n",
       "      <td>9.033540e+17</td>\n",
       "      <td>I'm literally my worst enemy.</td>\n",
       "    </tr>\n",
       "  </tbody>\n",
       "</table>\n",
       "</div>"
      ],
      "text/plain": [
       "                  id                           text\n",
       "232069  9.033540e+17  I'm literally my worst enemy."
      ]
     },
     "execution_count": 95,
     "metadata": {},
     "output_type": "execute_result"
    }
   ],
   "source": [
    "df.sample()"
   ]
  },
  {
   "cell_type": "code",
   "execution_count": 156,
   "metadata": {},
   "outputs": [
    {
     "data": {
      "text/plain": [
       "count     807271\n",
       "unique    800093\n",
       "top          Lol\n",
       "freq          70\n",
       "Name: text, dtype: object"
      ]
     },
     "execution_count": 156,
     "metadata": {},
     "output_type": "execute_result"
    }
   ],
   "source": [
    "df['text'].describe()"
   ]
  },
  {
   "cell_type": "markdown",
   "metadata": {},
   "source": [
    "Number of empty entries."
   ]
  },
  {
   "cell_type": "code",
   "execution_count": 157,
   "metadata": {},
   "outputs": [
    {
     "name": "stdout",
     "output_type": "stream",
     "text": [
      "Entries without id: 2130\n",
      "Entries without text: 2130\n"
     ]
    }
   ],
   "source": [
    "no_id = df[df['id'].isnull()].size\n",
    "no_text = df[df['text'].isnull()].size\n",
    "print(\"Entries without id: {0}\".format(no_id))\n",
    "print(\"Entries without text: {0}\".format(no_text))"
   ]
  },
  {
   "cell_type": "markdown",
   "metadata": {},
   "source": [
    "Word count statistics."
   ]
  },
  {
   "cell_type": "code",
   "execution_count": 124,
   "metadata": {},
   "outputs": [
    {
     "name": "stderr",
     "output_type": "stream",
     "text": [
      "/opt/conda/lib/python3.6/site-packages/ipykernel_launcher.py:2: UserWarning: Boolean Series key will be reindexed to match DataFrame index.\n",
      "  \n"
     ]
    },
    {
     "data": {
      "text/plain": [
       "count    807270.000000\n",
       "mean         11.346310\n",
       "std           6.729883\n",
       "min           1.000000\n",
       "25%           6.000000\n",
       "50%          11.000000\n",
       "75%          16.000000\n",
       "max          69.000000\n",
       "Name: text, dtype: float64"
      ]
     },
     "execution_count": 124,
     "metadata": {},
     "output_type": "execute_result"
    }
   ],
   "source": [
    "nn_df = df[df['id'].notnull()]\n",
    "nn_df = nn_df[df['text'].notnull()]\n",
    "nn_df['text'].str.split().apply(len).describe()"
   ]
  },
  {
   "cell_type": "code",
   "execution_count": 135,
   "metadata": {},
   "outputs": [
    {
     "name": "stdout",
     "output_type": "stream",
     "text": [
      "Corpus size (before cleaning it up): 1017250\n"
     ]
    }
   ],
   "source": [
    "corpus = set()\n",
    "nn_df['text'].str.lower().str.split().apply(corpus.update)\n",
    "print(\"Corpus size (before cleaning it up): {}\".format(len(corpus)))\n",
    "del corpus"
   ]
  },
  {
   "cell_type": "markdown",
   "metadata": {},
   "source": [
    "#### Data quality report\n",
    "The data is rather complete. Only 2130 entries are incomplete (lacking text and id) and therefore should be excluded from further analysis. Text data contain lots of hashtags, emojis, urls, etc. This should be taken into consideration during the text cleaning part."
   ]
  },
  {
   "cell_type": "markdown",
   "metadata": {},
   "source": [
    "## 3. Data preparation"
   ]
  },
  {
   "cell_type": "markdown",
   "metadata": {},
   "source": [
    "In order to reduce memory usage and facilitate inspecting the text data, tweet properties that will be utilized to build a classification model have been chosen beforehand, after initial overview of Twitter Streaming API response."
   ]
  },
  {
   "cell_type": "markdown",
   "metadata": {},
   "source": [
    "#### Cleaning the text data\n",
    "Remove entries that contain null values"
   ]
  },
  {
   "cell_type": "code",
   "execution_count": 30,
   "metadata": {},
   "outputs": [],
   "source": [
    "df = df[df['id'].notnull()]\n",
    "df = df[df['text'].notnull()]"
   ]
  },
  {
   "cell_type": "markdown",
   "metadata": {},
   "source": [
    "Convert ids to integers"
   ]
  },
  {
   "cell_type": "code",
   "execution_count": 31,
   "metadata": {
    "collapsed": true
   },
   "outputs": [],
   "source": [
    "df['id'] = df['id'].apply(int)"
   ]
  },
  {
   "cell_type": "code",
   "execution_count": 34,
   "metadata": {},
   "outputs": [
    {
     "data": {
      "text/html": [
       "<div>\n",
       "<table border=\"1\" class=\"dataframe\">\n",
       "  <thead>\n",
       "    <tr style=\"text-align: right;\">\n",
       "      <th></th>\n",
       "      <th>id</th>\n",
       "      <th>text</th>\n",
       "    </tr>\n",
       "  </thead>\n",
       "  <tbody>\n",
       "    <tr>\n",
       "      <th>0</th>\n",
       "      <td>903206020339699712</td>\n",
       "      <td>Happy 55th #TrinidadandTobago!\\n#Repost @RemyRemBunction https://t.co/tUZbpY8meO</td>\n",
       "    </tr>\n",
       "    <tr>\n",
       "      <th>1</th>\n",
       "      <td>903206024332660736</td>\n",
       "      <td>Stupid Easy Trivia happens now with @toddandjayde! Play with us to CLAIM YOUR THRONE!</td>\n",
       "    </tr>\n",
       "    <tr>\n",
       "      <th>2</th>\n",
       "      <td>903206024638816256</td>\n",
       "      <td>Yes but I miss Hillary more https://t.co/FS4hJTVzTl</td>\n",
       "    </tr>\n",
       "    <tr>\n",
       "      <th>3</th>\n",
       "      <td>903206028006883328</td>\n",
       "      <td>Just posted a photo @ Gladstone, Missouri https://t.co/YFpvmBPTxs</td>\n",
       "    </tr>\n",
       "    <tr>\n",
       "      <th>4</th>\n",
       "      <td>903206026643611648</td>\n",
       "      <td>i have so much fun here. wish you were here. https://t.co/DvBlLLXEV3</td>\n",
       "    </tr>\n",
       "  </tbody>\n",
       "</table>\n",
       "</div>"
      ],
      "text/plain": [
       "                   id  \\\n",
       "0  903206020339699712   \n",
       "1  903206024332660736   \n",
       "2  903206024638816256   \n",
       "3  903206028006883328   \n",
       "4  903206026643611648   \n",
       "\n",
       "                                                                                    text  \n",
       "0       Happy 55th #TrinidadandTobago!\\n#Repost @RemyRemBunction https://t.co/tUZbpY8meO  \n",
       "1  Stupid Easy Trivia happens now with @toddandjayde! Play with us to CLAIM YOUR THRONE!  \n",
       "2                                    Yes but I miss Hillary more https://t.co/FS4hJTVzTl  \n",
       "3                      Just posted a photo @ Gladstone, Missouri https://t.co/YFpvmBPTxs  \n",
       "4                   i have so much fun here. wish you were here. https://t.co/DvBlLLXEV3  "
      ]
     },
     "execution_count": 34,
     "metadata": {},
     "output_type": "execute_result"
    }
   ],
   "source": [
    "df.head()"
   ]
  },
  {
   "cell_type": "markdown",
   "metadata": {},
   "source": [
    "Use id as index"
   ]
  },
  {
   "cell_type": "code",
   "execution_count": 36,
   "metadata": {},
   "outputs": [],
   "source": [
    "df.set_index('id', inplace=True)"
   ]
  },
  {
   "cell_type": "code",
   "execution_count": 32,
   "metadata": {},
   "outputs": [
    {
     "data": {
      "text/html": [
       "<div>\n",
       "<table border=\"1\" class=\"dataframe\">\n",
       "  <thead>\n",
       "    <tr style=\"text-align: right;\">\n",
       "      <th></th>\n",
       "      <th>id</th>\n",
       "      <th>text</th>\n",
       "    </tr>\n",
       "  </thead>\n",
       "  <tbody>\n",
       "    <tr>\n",
       "      <th>0</th>\n",
       "      <td>903206020339699712</td>\n",
       "      <td>Happy 55th #TrinidadandTobago!\\n#Repost @RemyRemBunction https://t.co/tUZbpY8meO</td>\n",
       "    </tr>\n",
       "    <tr>\n",
       "      <th>1</th>\n",
       "      <td>903206024332660736</td>\n",
       "      <td>Stupid Easy Trivia happens now with @toddandjayde! Play with us to CLAIM YOUR THRONE!</td>\n",
       "    </tr>\n",
       "    <tr>\n",
       "      <th>2</th>\n",
       "      <td>903206024638816256</td>\n",
       "      <td>Yes but I miss Hillary more https://t.co/FS4hJTVzTl</td>\n",
       "    </tr>\n",
       "    <tr>\n",
       "      <th>3</th>\n",
       "      <td>903206028006883328</td>\n",
       "      <td>Just posted a photo @ Gladstone, Missouri https://t.co/YFpvmBPTxs</td>\n",
       "    </tr>\n",
       "    <tr>\n",
       "      <th>4</th>\n",
       "      <td>903206026643611648</td>\n",
       "      <td>i have so much fun here. wish you were here. https://t.co/DvBlLLXEV3</td>\n",
       "    </tr>\n",
       "  </tbody>\n",
       "</table>\n",
       "</div>"
      ],
      "text/plain": [
       "                   id  \\\n",
       "0  903206020339699712   \n",
       "1  903206024332660736   \n",
       "2  903206024638816256   \n",
       "3  903206028006883328   \n",
       "4  903206026643611648   \n",
       "\n",
       "                                                                                    text  \n",
       "0       Happy 55th #TrinidadandTobago!\\n#Repost @RemyRemBunction https://t.co/tUZbpY8meO  \n",
       "1  Stupid Easy Trivia happens now with @toddandjayde! Play with us to CLAIM YOUR THRONE!  \n",
       "2                                    Yes but I miss Hillary more https://t.co/FS4hJTVzTl  \n",
       "3                      Just posted a photo @ Gladstone, Missouri https://t.co/YFpvmBPTxs  \n",
       "4                   i have so much fun here. wish you were here. https://t.co/DvBlLLXEV3  "
      ]
     },
     "execution_count": 32,
     "metadata": {},
     "output_type": "execute_result"
    }
   ],
   "source": [
    "df.head()"
   ]
  },
  {
   "cell_type": "markdown",
   "metadata": {},
   "source": [
    "#### Fetch labels from http://www.sentiment140.com"
   ]
  },
  {
   "cell_type": "code",
   "execution_count": 279,
   "metadata": {
    "collapsed": true
   },
   "outputs": [],
   "source": [
    "import json\n",
    "from urllib.parse import urlencode\n",
    "from urllib.request import Request, urlopen\n",
    "\n",
    "\n",
    "def payload(df):\n",
    "    data = { 'data': [{ 'text': e[1]['text'], 'id': e[1]['id'] } for e in df.iterrows()]}\n",
    "    return json.dumps(data).encode('utf-8')\n",
    "\n",
    "\n",
    "def fetch_labels(df):\n",
    "    api_url = 'http://www.sentiment140.com/api/bulkClassifyJson'\n",
    "    request = Request(api_url, payload(df), {'Content-Type': 'application/json'})\n",
    "    response = urlopen(request).read().decode(\"utf-8\", \"replace\")\n",
    "    json_response = json.loads(response)\n",
    "    return json_response['data']"
   ]
  },
  {
   "cell_type": "markdown",
   "metadata": {},
   "source": [
    "Store labels in Cassandra for further use."
   ]
  },
  {
   "cell_type": "code",
   "execution_count": null,
   "metadata": {},
   "outputs": [],
   "source": [
    "from cassandra.cluster import Cluster\n",
    "\n",
    "cluster = Cluster(['cassandra'])\n",
    "session = cluster.connect()\n",
    "session.execute(\"CREATE KEYSPACE sentiment_analysis WITH REPLICATION = { 'class' : 'SimpleStrategy', 'replication_factor' : 1 };\")\n",
    "session.set_keyspace('sentiment_analysis')\n",
    "session.execute(\"CREATE TABLE sentiment_labels(id text PRIMARY KEY, sentiment int)\")\n",
    "cluster.shutdown()"
   ]
  },
  {
   "cell_type": "code",
   "execution_count": 277,
   "metadata": {
    "collapsed": true
   },
   "outputs": [],
   "source": [
    "def convert_label(polarity):\n",
    "    return { 0: -1, 2: 0, 4: 1}[polarity]\n",
    "\n",
    "\n",
    "def store_label(sentiment_data, session):\n",
    "    session.execute(\"\"\"\n",
    "        INSERT INTO sentiment_labels (id, sentiment)\n",
    "        VALUES (%s, %s)\"\"\",\n",
    "        (str(sentiment_data['id']), convert_label(sentiment_data['polarity']))\n",
    "    )"
   ]
  },
  {
   "cell_type": "code",
   "execution_count": 281,
   "metadata": {
    "collapsed": true
   },
   "outputs": [],
   "source": [
    "cluster = Cluster(['cassandra'])\n",
    "session = cluster.connect('sentiment_analysis')"
   ]
  },
  {
   "cell_type": "code",
   "execution_count": null,
   "metadata": {
    "collapsed": true,
    "scrolled": true
   },
   "outputs": [],
   "source": [
    "chunk_size = 100\n",
    "for i in range(379840, df['text'].size - chunk_size + 1, chunk_size):\n",
    "    labels = fetch_labels(df[i:i+chunk_size])\n",
    "    for l in labels:\n",
    "        store_label(l, session)\n",
    "    print(i)"
   ]
  },
  {
   "cell_type": "code",
   "execution_count": null,
   "metadata": {
    "collapsed": true
   },
   "outputs": [],
   "source": [
    "cluster.shutdown()"
   ]
  },
  {
   "cell_type": "markdown",
   "metadata": {},
   "source": [
    "#### Load labels into the dataframe"
   ]
  },
  {
   "cell_type": "code",
   "execution_count": 72,
   "metadata": {},
   "outputs": [],
   "source": [
    "from cassandra.cluster import Cluster\n",
    "\n",
    "\n",
    "cluster = Cluster(['cassandra'])\n",
    "session = cluster.connect('sentiment_analysis')"
   ]
  },
  {
   "cell_type": "code",
   "execution_count": 51,
   "metadata": {
    "collapsed": true
   },
   "outputs": [],
   "source": [
    "def pandas_factory(colnames, rows):\n",
    "    return pd.DataFrame(rows, columns=colnames)"
   ]
  },
  {
   "cell_type": "code",
   "execution_count": 73,
   "metadata": {},
   "outputs": [],
   "source": [
    "session.row_factory = pandas_factory\n",
    "session.default_fetch_size = None\n",
    "\n",
    "query = \"SELECT * FROM sentiment_labels\"\n",
    "result = session.execute(query, timeout=None)\n",
    "labels_df = result._current_rows"
   ]
  },
  {
   "cell_type": "code",
   "execution_count": 74,
   "metadata": {
    "collapsed": true
   },
   "outputs": [],
   "source": [
    "cluster.shutdown()"
   ]
  },
  {
   "cell_type": "code",
   "execution_count": 41,
   "metadata": {},
   "outputs": [
    {
     "data": {
      "text/html": [
       "<div>\n",
       "<table border=\"1\" class=\"dataframe\">\n",
       "  <thead>\n",
       "    <tr style=\"text-align: right;\">\n",
       "      <th></th>\n",
       "      <th>id</th>\n",
       "      <th>sentiment</th>\n",
       "    </tr>\n",
       "  </thead>\n",
       "  <tbody>\n",
       "    <tr>\n",
       "      <th>367132</th>\n",
       "      <td>903396912845512704</td>\n",
       "      <td>0</td>\n",
       "    </tr>\n",
       "  </tbody>\n",
       "</table>\n",
       "</div>"
      ],
      "text/plain": [
       "                        id  sentiment\n",
       "367132  903396912845512704          0"
      ]
     },
     "execution_count": 41,
     "metadata": {},
     "output_type": "execute_result"
    }
   ],
   "source": [
    "labels_df.sample()"
   ]
  },
  {
   "cell_type": "code",
   "execution_count": 58,
   "metadata": {},
   "outputs": [],
   "source": [
    "labels_df.set_index('id', inplace=True)"
   ]
  },
  {
   "cell_type": "code",
   "execution_count": 42,
   "metadata": {},
   "outputs": [
    {
     "data": {
      "text/html": [
       "<div>\n",
       "<table border=\"1\" class=\"dataframe\">\n",
       "  <thead>\n",
       "    <tr style=\"text-align: right;\">\n",
       "      <th></th>\n",
       "      <th>id</th>\n",
       "      <th>sentiment</th>\n",
       "    </tr>\n",
       "  </thead>\n",
       "  <tbody>\n",
       "    <tr>\n",
       "      <th>0</th>\n",
       "      <td>903368428244926464</td>\n",
       "      <td>0</td>\n",
       "    </tr>\n",
       "    <tr>\n",
       "      <th>1</th>\n",
       "      <td>903370282064326656</td>\n",
       "      <td>0</td>\n",
       "    </tr>\n",
       "    <tr>\n",
       "      <th>2</th>\n",
       "      <td>903363400725520384</td>\n",
       "      <td>0</td>\n",
       "    </tr>\n",
       "    <tr>\n",
       "      <th>3</th>\n",
       "      <td>903335866411741184</td>\n",
       "      <td>0</td>\n",
       "    </tr>\n",
       "    <tr>\n",
       "      <th>4</th>\n",
       "      <td>903435914361298944</td>\n",
       "      <td>0</td>\n",
       "    </tr>\n",
       "  </tbody>\n",
       "</table>\n",
       "</div>"
      ],
      "text/plain": [
       "                   id  sentiment\n",
       "0  903368428244926464          0\n",
       "1  903370282064326656          0\n",
       "2  903363400725520384          0\n",
       "3  903335866411741184          0\n",
       "4  903435914361298944          0"
      ]
     },
     "execution_count": 42,
     "metadata": {},
     "output_type": "execute_result"
    }
   ],
   "source": [
    "labels_df.head()"
   ]
  },
  {
   "cell_type": "markdown",
   "metadata": {},
   "source": [
    "Store dataframes in csv files for convenient access."
   ]
  },
  {
   "cell_type": "code",
   "execution_count": 76,
   "metadata": {
    "collapsed": true
   },
   "outputs": [],
   "source": [
    "df.to_csv('tweets_df.csv')"
   ]
  },
  {
   "cell_type": "code",
   "execution_count": 81,
   "metadata": {
    "collapsed": true
   },
   "outputs": [],
   "source": [
    "labels_df.to_csv('labels_df.csv')"
   ]
  },
  {
   "cell_type": "code",
   "execution_count": 18,
   "metadata": {},
   "outputs": [],
   "source": [
    "df = pd.read_csv('tweets_df.csv')\n",
    "labels_df = pd.read_csv('labels_df.csv')"
   ]
  },
  {
   "cell_type": "code",
   "execution_count": 80,
   "metadata": {},
   "outputs": [],
   "source": [
    "labels_df = labels_df.sort_values(by='id')"
   ]
  },
  {
   "cell_type": "code",
   "execution_count": 96,
   "metadata": {},
   "outputs": [],
   "source": [
    "df = df.sort_values(by='id')"
   ]
  },
  {
   "cell_type": "code",
   "execution_count": 114,
   "metadata": {},
   "outputs": [
    {
     "data": {
      "text/html": [
       "<div>\n",
       "<table border=\"1\" class=\"dataframe\">\n",
       "  <thead>\n",
       "    <tr style=\"text-align: right;\">\n",
       "      <th></th>\n",
       "      <th>id</th>\n",
       "      <th>sentiment</th>\n",
       "    </tr>\n",
       "  </thead>\n",
       "  <tbody>\n",
       "    <tr>\n",
       "      <th>541595</th>\n",
       "      <td>903956065158615040</td>\n",
       "      <td>-1</td>\n",
       "    </tr>\n",
       "    <tr>\n",
       "      <th>792664</th>\n",
       "      <td>903956065678745600</td>\n",
       "      <td>0</td>\n",
       "    </tr>\n",
       "    <tr>\n",
       "      <th>539600</th>\n",
       "      <td>903956068203601920</td>\n",
       "      <td>0</td>\n",
       "    </tr>\n",
       "    <tr>\n",
       "      <th>85937</th>\n",
       "      <td>903956068644081664</td>\n",
       "      <td>0</td>\n",
       "    </tr>\n",
       "    <tr>\n",
       "      <th>462642</th>\n",
       "      <td>903956068761452544</td>\n",
       "      <td>0</td>\n",
       "    </tr>\n",
       "  </tbody>\n",
       "</table>\n",
       "</div>"
      ],
      "text/plain": [
       "                        id  sentiment\n",
       "541595  903956065158615040         -1\n",
       "792664  903956065678745600          0\n",
       "539600  903956068203601920          0\n",
       "85937   903956068644081664          0\n",
       "462642  903956068761452544          0"
      ]
     },
     "execution_count": 114,
     "metadata": {},
     "output_type": "execute_result"
    }
   ],
   "source": [
    "labels_df.tail()"
   ]
  },
  {
   "cell_type": "code",
   "execution_count": 106,
   "metadata": {},
   "outputs": [
    {
     "data": {
      "text/plain": [
       "array([1, 0, 0, ..., 0, 0, 0])"
      ]
     },
     "execution_count": 106,
     "metadata": {},
     "output_type": "execute_result"
    }
   ],
   "source": [
    "labels_df['sentiment'].values"
   ]
  },
  {
   "cell_type": "code",
   "execution_count": 110,
   "metadata": {},
   "outputs": [],
   "source": [
    "df = df.drop_duplicates(subset='id', keep=\"last\")"
   ]
  },
  {
   "cell_type": "code",
   "execution_count": 112,
   "metadata": {},
   "outputs": [
    {
     "name": "stderr",
     "output_type": "stream",
     "text": [
      "/opt/conda/lib/python3.6/site-packages/ipykernel_launcher.py:1: SettingWithCopyWarning: \n",
      "A value is trying to be set on a copy of a slice from a DataFrame.\n",
      "Try using .loc[row_indexer,col_indexer] = value instead\n",
      "\n",
      "See the caveats in the documentation: http://pandas.pydata.org/pandas-docs/stable/indexing.html#indexing-view-versus-copy\n",
      "  \"\"\"Entry point for launching an IPython kernel.\n"
     ]
    }
   ],
   "source": [
    "df['label'] = labels_df['sentiment'].values"
   ]
  },
  {
   "cell_type": "code",
   "execution_count": 115,
   "metadata": {},
   "outputs": [
    {
     "data": {
      "text/html": [
       "<div>\n",
       "<table border=\"1\" class=\"dataframe\">\n",
       "  <thead>\n",
       "    <tr style=\"text-align: right;\">\n",
       "      <th></th>\n",
       "      <th>id</th>\n",
       "      <th>text</th>\n",
       "      <th>label</th>\n",
       "    </tr>\n",
       "  </thead>\n",
       "  <tbody>\n",
       "    <tr>\n",
       "      <th>808331</th>\n",
       "      <td>903956065158615040</td>\n",
       "      <td>These last 2 days, boyyyyy. Have been the worst.</td>\n",
       "      <td>-1</td>\n",
       "    </tr>\n",
       "    <tr>\n",
       "      <th>808332</th>\n",
       "      <td>903956065678745600</td>\n",
       "      <td>This nigga is tweeting like he know me. All I said was shut up and he tweeted me 4 times lmaooooooooo https://t.co/4GI3Ogykrd</td>\n",
       "      <td>0</td>\n",
       "    </tr>\n",
       "    <tr>\n",
       "      <th>808333</th>\n",
       "      <td>903956068203601920</td>\n",
       "      <td>If you're looking for work in #MtPleasant, MI, check out this #job: https://t.co/Ik6kX1FChQ #CustomerService #Hiring #CareerArc</td>\n",
       "      <td>0</td>\n",
       "    </tr>\n",
       "    <tr>\n",
       "      <th>808334</th>\n",
       "      <td>903956068644081664</td>\n",
       "      <td>Haha to funny 😂 https://t.co/UoqVOjj06a</td>\n",
       "      <td>0</td>\n",
       "    </tr>\n",
       "    <tr>\n",
       "      <th>808335</th>\n",
       "      <td>903956068761452544</td>\n",
       "      <td>See our latest #Douglas, GA #job and click to apply: Delivery Driver - https://t.co/AownKm7yjW #Transportation #Hiring #CareerArc</td>\n",
       "      <td>0</td>\n",
       "    </tr>\n",
       "  </tbody>\n",
       "</table>\n",
       "</div>"
      ],
      "text/plain": [
       "                        id  \\\n",
       "808331  903956065158615040   \n",
       "808332  903956065678745600   \n",
       "808333  903956068203601920   \n",
       "808334  903956068644081664   \n",
       "808335  903956068761452544   \n",
       "\n",
       "                                                                                                                                     text  \\\n",
       "808331                                                                                   These last 2 days, boyyyyy. Have been the worst.   \n",
       "808332      This nigga is tweeting like he know me. All I said was shut up and he tweeted me 4 times lmaooooooooo https://t.co/4GI3Ogykrd   \n",
       "808333    If you're looking for work in #MtPleasant, MI, check out this #job: https://t.co/Ik6kX1FChQ #CustomerService #Hiring #CareerArc   \n",
       "808334                                                                                            Haha to funny 😂 https://t.co/UoqVOjj06a   \n",
       "808335  See our latest #Douglas, GA #job and click to apply: Delivery Driver - https://t.co/AownKm7yjW #Transportation #Hiring #CareerArc   \n",
       "\n",
       "        label  \n",
       "808331     -1  \n",
       "808332      0  \n",
       "808333      0  \n",
       "808334      0  \n",
       "808335      0  "
      ]
     },
     "execution_count": 115,
     "metadata": {},
     "output_type": "execute_result"
    }
   ],
   "source": [
    "df.tail()"
   ]
  },
  {
   "cell_type": "code",
   "execution_count": 116,
   "metadata": {
    "collapsed": true
   },
   "outputs": [],
   "source": [
    "df.to_csv('train.csv')"
   ]
  },
  {
   "cell_type": "markdown",
   "metadata": {},
   "source": [
    "Explore data once more."
   ]
  },
  {
   "cell_type": "code",
   "execution_count": 118,
   "metadata": {},
   "outputs": [],
   "source": [
    "import matplotlib.pyplot as plt"
   ]
  },
  {
   "cell_type": "code",
   "execution_count": 121,
   "metadata": {},
   "outputs": [
    {
     "data": {
      "image/png": "[encoded data removed]",
      "text/plain": [
       "<matplotlib.figure.Figure at 0x7f43cd5c9160>"
      ]
     },
     "metadata": {},
     "output_type": "display_data"
    }
   ],
   "source": [
    "df['label'].plot.hist()\n",
    "plt.show()"
   ]
  },
  {
   "cell_type": "markdown",
   "metadata": {},
   "source": [
    "Clean data.\n",
    "- remove entries without labels\n",
    "- remove stopwords"
   ]
  },
  {
   "cell_type": "markdown",
   "metadata": {},
   "source": [
    "Build model using NaiveBayes classifier and HashingTF."
   ]
  },
  {
   "cell_type": "code",
   "execution_count": null,
   "metadata": {
    "collapsed": true
   },
   "outputs": [],
   "source": []
  }
 ],
 "metadata": {
  "kernelspec": {
   "display_name": "Python 3",
   "language": "python",
   "name": "python3"
  },
  "language_info": {
   "codemirror_mode": {
    "name": "ipython",
    "version": 3
   },
   "file_extension": ".py",
   "mimetype": "text/x-python",
   "name": "python",
   "nbconvert_exporter": "python",
   "pygments_lexer": "ipython3",
   "version": "3.6.1"
  }
 },
 "nbformat": 4,
 "nbformat_minor": 2
}
