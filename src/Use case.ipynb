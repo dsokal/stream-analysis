{
 "cells": [
  {
   "cell_type": "markdown",
   "metadata": {},
   "source": [
    "## 1. Business understanding"
   ]
  },
  {
   "cell_type": "markdown",
   "metadata": {},
   "source": [
    "### Objectives\n",
    "\n",
    "Perform sentiment analysis of tweets in real time."
   ]
  },
  {
   "cell_type": "markdown",
   "metadata": {},
   "source": [
    "### Success criteria\n",
    "\n",
    "The project will be considered successful if the resulting model will work with accuracy of 70% or higher. Results should be produced with a delay no bigger than 1 second."
   ]
  },
  {
   "cell_type": "markdown",
   "metadata": {},
   "source": [
    "### Project plan\n",
    "\n",
    "1. Examine the data provided by the Twitter Streaming API.\n",
    "1. Fetch a set of tweets that will be used for training purposes.\n",
    "1. Explore the data gathered in the sample.\n",
    "1. Label the training data\n",
    "1. Build and evaluate models\n",
    "1. Create a spark job that will use the best prediction model\n",
    "1. Deploy the job to a preset spark cluster"
   ]
  },
  {
   "cell_type": "markdown",
   "metadata": {},
   "source": [
    "## 2. Data understanding"
   ]
  },
  {
   "cell_type": "markdown",
   "metadata": {},
   "source": [
    "### Collect data\n",
    "Fetch tweets using the Twitter Streaming API and store them in Kafka."
   ]
  },
  {
   "cell_type": "code",
   "execution_count": 1,
   "metadata": {
    "collapsed": true
   },
   "outputs": [],
   "source": [
    "from notebook_client.notebook_client import NotebookClient"
   ]
  },
  {
   "cell_type": "code",
   "execution_count": 256,
   "metadata": {
    "collapsed": true
   },
   "outputs": [],
   "source": [
    "nc = NotebookClient()\n",
    "nc.initialize_producers_manager_connection()\n",
    "nc.initialize_sampler_manager_connection()"
   ]
  },
  {
   "cell_type": "code",
   "execution_count": 322,
   "metadata": {
    "collapsed": true
   },
   "outputs": [],
   "source": [
    "producer_pid = nc.start_streaming('usa_stream', { 'locations': '-125.75,30.8,-70,45' })"
   ]
  },
  {
   "cell_type": "code",
   "execution_count": 47,
   "metadata": {
    "collapsed": true
   },
   "outputs": [],
   "source": [
    "reservoir_size = 5\n",
    "limit = 10\n",
    "nc.start_sampling('san_stream', 'london_sample', reservoir_size, limit)"
   ]
  },
  {
   "cell_type": "code",
   "execution_count": 317,
   "metadata": {},
   "outputs": [
    {
     "data": {
      "text/plain": [
       "'not found'"
      ]
     },
     "execution_count": 317,
     "metadata": {},
     "output_type": "execute_result"
    }
   ],
   "source": [
    "nc.streaming_status(producer_pid)"
   ]
  },
  {
   "cell_type": "code",
   "execution_count": 50,
   "metadata": {},
   "outputs": [
    {
     "data": {
      "text/plain": [
       "'finished'"
      ]
     },
     "execution_count": 50,
     "metadata": {},
     "output_type": "execute_result"
    }
   ],
   "source": [
    "nc.sampling_status()"
   ]
  },
  {
   "cell_type": "code",
   "execution_count": 338,
   "metadata": {},
   "outputs": [
    {
     "data": {
      "text/plain": [
       "'stopped'"
      ]
     },
     "execution_count": 338,
     "metadata": {},
     "output_type": "execute_result"
    }
   ],
   "source": [
    "nc.stop_streaming(producer_pid)"
   ]
  },
  {
   "cell_type": "code",
   "execution_count": 43,
   "metadata": {},
   "outputs": [
    {
     "data": {
      "text/plain": [
       "'stopped'"
      ]
     },
     "execution_count": 43,
     "metadata": {},
     "output_type": "execute_result"
    }
   ],
   "source": [
    "nc.stop_sampling()"
   ]
  },
  {
   "cell_type": "markdown",
   "metadata": {},
   "source": [
    "### Explore fetched data"
   ]
  },
  {
   "cell_type": "code",
   "execution_count": 2,
   "metadata": {
    "collapsed": true
   },
   "outputs": [],
   "source": [
    "from kafka import KafkaConsumer\n",
    "\n",
    "consumer = KafkaConsumer('usa_stream', bootstrap_servers='kafka')\n",
    "consumer.topics()\n",
    "partition = consumer.assignment().pop()"
   ]
  },
  {
   "cell_type": "code",
   "execution_count": 54,
   "metadata": {
    "collapsed": true
   },
   "outputs": [],
   "source": [
    "consumer.seek_to_end()\n",
    "tweets_count = consumer.position(partition)\n",
    "consumer.seek_to_beginning()"
   ]
  },
  {
   "cell_type": "code",
   "execution_count": 46,
   "metadata": {},
   "outputs": [
    {
     "data": {
      "text/plain": [
       "0"
      ]
     },
     "execution_count": 46,
     "metadata": {},
     "output_type": "execute_result"
    }
   ],
   "source": [
    "consumer.position(partition)"
   ]
  },
  {
   "cell_type": "code",
   "execution_count": 47,
   "metadata": {
    "collapsed": true
   },
   "outputs": [],
   "source": [
    "import json\n",
    "\n",
    "data = map(lambda t: json.loads(t.value.decode('utf-8')), consumer)"
   ]
  },
  {
   "cell_type": "markdown",
   "metadata": {},
   "source": [
    "#### Check what a sample tweet object looks like."
   ]
  },
  {
   "cell_type": "code",
   "execution_count": 48,
   "metadata": {},
   "outputs": [
    {
     "data": {
      "text/plain": [
       "{'contributors': None,\n",
       " 'coordinates': None,\n",
       " 'created_at': 'Thu Aug 31 10:41:10 +0000 2017',\n",
       " 'display_text_range': [0, 55],\n",
       " 'entities': {'hashtags': [{'indices': [11, 29], 'text': 'TrinidadandTobago'},\n",
       "   {'indices': [31, 38], 'text': 'Repost'}],\n",
       "  'media': [{'display_url': 'pic.twitter.com/tUZbpY8meO',\n",
       "    'expanded_url': 'https://twitter.com/dyschick/status/903206020339699713/video/1',\n",
       "    'id': 903205935727779840,\n",
       "    'id_str': '903205935727779840',\n",
       "    'indices': [56, 79],\n",
       "    'media_url': 'http://pbs.twimg.com/ext_tw_video_thumb/903205935727779840/pu/img/79Rjyir-dcmfFMRs.jpg',\n",
       "    'media_url_https': 'https://pbs.twimg.com/ext_tw_video_thumb/903205935727779840/pu/img/79Rjyir-dcmfFMRs.jpg',\n",
       "    'sizes': {'large': {'h': 640, 'resize': 'fit', 'w': 640},\n",
       "     'medium': {'h': 600, 'resize': 'fit', 'w': 600},\n",
       "     'small': {'h': 340, 'resize': 'fit', 'w': 340},\n",
       "     'thumb': {'h': 150, 'resize': 'crop', 'w': 150}},\n",
       "    'type': 'photo',\n",
       "    'url': 'https://t.co/tUZbpY8meO'}],\n",
       "  'symbols': [],\n",
       "  'urls': [],\n",
       "  'user_mentions': [{'id': 212351525,\n",
       "    'id_str': '212351525',\n",
       "    'indices': [39, 55],\n",
       "    'name': 'RemBunction',\n",
       "    'screen_name': 'RemyRemBunction'}]},\n",
       " 'extended_entities': {'media': [{'display_url': 'pic.twitter.com/tUZbpY8meO',\n",
       "    'expanded_url': 'https://twitter.com/dyschick/status/903206020339699713/video/1',\n",
       "    'id': 903205935727779840,\n",
       "    'id_str': '903205935727779840',\n",
       "    'indices': [56, 79],\n",
       "    'media_url': 'http://pbs.twimg.com/ext_tw_video_thumb/903205935727779840/pu/img/79Rjyir-dcmfFMRs.jpg',\n",
       "    'media_url_https': 'https://pbs.twimg.com/ext_tw_video_thumb/903205935727779840/pu/img/79Rjyir-dcmfFMRs.jpg',\n",
       "    'sizes': {'large': {'h': 640, 'resize': 'fit', 'w': 640},\n",
       "     'medium': {'h': 600, 'resize': 'fit', 'w': 600},\n",
       "     'small': {'h': 340, 'resize': 'fit', 'w': 340},\n",
       "     'thumb': {'h': 150, 'resize': 'crop', 'w': 150}},\n",
       "    'type': 'video',\n",
       "    'url': 'https://t.co/tUZbpY8meO',\n",
       "    'video_info': {'aspect_ratio': [1, 1],\n",
       "     'duration_millis': 59091,\n",
       "     'variants': [{'content_type': 'application/x-mpegURL',\n",
       "       'url': 'https://video.twimg.com/ext_tw_video/903205935727779840/pu/pl/l1nIdDPTwL3zHIdx.m3u8'},\n",
       "      {'bitrate': 832000,\n",
       "       'content_type': 'video/mp4',\n",
       "       'url': 'https://video.twimg.com/ext_tw_video/903205935727779840/pu/vid/480x480/dS4fPY14FQjC5DKu.mp4'},\n",
       "      {'bitrate': 320000,\n",
       "       'content_type': 'video/mp4',\n",
       "       'url': 'https://video.twimg.com/ext_tw_video/903205935727779840/pu/vid/240x240/jUdgWMYXBvtUBxG9.mp4'}]}}]},\n",
       " 'favorite_count': 0,\n",
       " 'favorited': False,\n",
       " 'filter_level': 'low',\n",
       " 'geo': None,\n",
       " 'id': 903206020339699713,\n",
       " 'id_str': '903206020339699713',\n",
       " 'in_reply_to_screen_name': None,\n",
       " 'in_reply_to_status_id': None,\n",
       " 'in_reply_to_status_id_str': None,\n",
       " 'in_reply_to_user_id': None,\n",
       " 'in_reply_to_user_id_str': None,\n",
       " 'is_quote_status': False,\n",
       " 'lang': 'en',\n",
       " 'place': {'attributes': {},\n",
       "  'bounding_box': {'coordinates': [[[-74.041878, 40.570842],\n",
       "     [-74.041878, 40.739434],\n",
       "     [-73.855673, 40.739434],\n",
       "     [-73.855673, 40.570842]]],\n",
       "   'type': 'Polygon'},\n",
       "  'country': 'United States',\n",
       "  'country_code': 'US',\n",
       "  'full_name': 'Brooklyn, NY',\n",
       "  'id': '011add077f4d2da3',\n",
       "  'name': 'Brooklyn',\n",
       "  'place_type': 'city',\n",
       "  'url': 'https://api.twitter.com/1.1/geo/id/011add077f4d2da3.json'},\n",
       " 'possibly_sensitive': False,\n",
       " 'quote_count': 0,\n",
       " 'reply_count': 0,\n",
       " 'retweet_count': 0,\n",
       " 'retweeted': False,\n",
       " 'source': '<a href=\"http://twitter.com/download/iphone\" rel=\"nofollow\">Twitter for iPhone</a>',\n",
       " 'text': 'Happy 55th #TrinidadandTobago!\\n#Repost @RemyRemBunction https://t.co/tUZbpY8meO',\n",
       " 'timestamp_ms': '1504176070662',\n",
       " 'truncated': False,\n",
       " 'user': {'contributors_enabled': False,\n",
       "  'created_at': 'Wed Jan 05 03:07:53 +0000 2011',\n",
       "  'default_profile': False,\n",
       "  'default_profile_image': False,\n",
       "  'description': 'Cultural Travel Blogger / Brooklynite 🇬🇾 deanna@dyschick.com',\n",
       "  'favourites_count': 707,\n",
       "  'follow_request_sent': None,\n",
       "  'followers_count': 526,\n",
       "  'following': None,\n",
       "  'friends_count': 513,\n",
       "  'geo_enabled': True,\n",
       "  'id': 234214779,\n",
       "  'id_str': '234214779',\n",
       "  'is_translator': False,\n",
       "  'lang': 'en',\n",
       "  'listed_count': 57,\n",
       "  'location': 'Brooklyn, NY',\n",
       "  'name': 'DysChick',\n",
       "  'notifications': None,\n",
       "  'profile_background_color': 'FFF04D',\n",
       "  'profile_background_image_url': 'http://pbs.twimg.com/profile_background_images/710109378/5bff1907a39a973b805674f5865c0f70.jpeg',\n",
       "  'profile_background_image_url_https': 'https://pbs.twimg.com/profile_background_images/710109378/5bff1907a39a973b805674f5865c0f70.jpeg',\n",
       "  'profile_background_tile': True,\n",
       "  'profile_banner_url': 'https://pbs.twimg.com/profile_banners/234214779/1405828626',\n",
       "  'profile_image_url': 'http://pbs.twimg.com/profile_images/872124333992411136/q_MtouaB_normal.jpg',\n",
       "  'profile_image_url_https': 'https://pbs.twimg.com/profile_images/872124333992411136/q_MtouaB_normal.jpg',\n",
       "  'profile_link_color': '0099CC',\n",
       "  'profile_sidebar_border_color': '000000',\n",
       "  'profile_sidebar_fill_color': 'F6FFD1',\n",
       "  'profile_text_color': '333333',\n",
       "  'profile_use_background_image': True,\n",
       "  'protected': False,\n",
       "  'screen_name': 'dyschick',\n",
       "  'statuses_count': 16328,\n",
       "  'time_zone': 'Atlantic Time (Canada)',\n",
       "  'translator_type': 'none',\n",
       "  'url': 'https://m.youtube.com/watch?v=Iy9V6w_bS08&feature=youtu.be',\n",
       "  'utc_offset': -10800,\n",
       "  'verified': False}}"
      ]
     },
     "execution_count": 48,
     "metadata": {},
     "output_type": "execute_result"
    }
   ],
   "source": [
    "data.__next__()"
   ]
  },
  {
   "cell_type": "markdown",
   "metadata": {},
   "source": [
    "#### Extract useful properties."
   ]
  },
  {
   "cell_type": "code",
   "execution_count": 50,
   "metadata": {
    "collapsed": true
   },
   "outputs": [],
   "source": [
    "def parse_tweet(data):\n",
    "    return { 'id': data['id'], 'text': data['text'] }"
   ]
  },
  {
   "cell_type": "code",
   "execution_count": 52,
   "metadata": {
    "collapsed": true
   },
   "outputs": [],
   "source": [
    "import pandas as pd\n",
    "\n",
    "tweets_count = 10\n",
    "consumer.seek_to_beginning()\n",
    "parsed_data = map(lambda x: parse_tweet(x), data)\n",
    "df = pd.DataFrame([parsed_data.__next__() for i in range(tweets_count)])"
   ]
  },
  {
   "cell_type": "code",
   "execution_count": 53,
   "metadata": {},
   "outputs": [
    {
     "data": {
      "text/html": [
       "<div>\n",
       "<table border=\"1\" class=\"dataframe\">\n",
       "  <thead>\n",
       "    <tr style=\"text-align: right;\">\n",
       "      <th></th>\n",
       "      <th>id</th>\n",
       "      <th>text</th>\n",
       "    </tr>\n",
       "  </thead>\n",
       "  <tbody>\n",
       "    <tr>\n",
       "      <th>0</th>\n",
       "      <td>903206020339699713</td>\n",
       "      <td>Happy 55th #TrinidadandTobago!\\n#Repost @RemyR...</td>\n",
       "    </tr>\n",
       "    <tr>\n",
       "      <th>1</th>\n",
       "      <td>903206024332660736</td>\n",
       "      <td>Stupid Easy Trivia happens now with @toddandja...</td>\n",
       "    </tr>\n",
       "    <tr>\n",
       "      <th>2</th>\n",
       "      <td>903206024638816256</td>\n",
       "      <td>Yes but I miss Hillary more https://t.co/FS4hJ...</td>\n",
       "    </tr>\n",
       "    <tr>\n",
       "      <th>3</th>\n",
       "      <td>903206028006883328</td>\n",
       "      <td>Just posted a photo @ Gladstone, Missouri http...</td>\n",
       "    </tr>\n",
       "    <tr>\n",
       "      <th>4</th>\n",
       "      <td>903206026643611648</td>\n",
       "      <td>i have so much fun here. wish you were here. h...</td>\n",
       "    </tr>\n",
       "  </tbody>\n",
       "</table>\n",
       "</div>"
      ],
      "text/plain": [
       "                   id                                               text\n",
       "0  903206020339699713  Happy 55th #TrinidadandTobago!\\n#Repost @RemyR...\n",
       "1  903206024332660736  Stupid Easy Trivia happens now with @toddandja...\n",
       "2  903206024638816256  Yes but I miss Hillary more https://t.co/FS4hJ...\n",
       "3  903206028006883328  Just posted a photo @ Gladstone, Missouri http...\n",
       "4  903206026643611648  i have so much fun here. wish you were here. h..."
      ]
     },
     "execution_count": 53,
     "metadata": {},
     "output_type": "execute_result"
    }
   ],
   "source": [
    "df.head()"
   ]
  },
  {
   "cell_type": "code",
   "execution_count": null,
   "metadata": {
    "collapsed": true
   },
   "outputs": [],
   "source": []
  }
 ],
 "metadata": {
  "kernelspec": {
   "display_name": "Python 3",
   "language": "python",
   "name": "python3"
  },
  "language_info": {
   "codemirror_mode": {
    "name": "ipython",
    "version": 3
   },
   "file_extension": ".py",
   "mimetype": "text/x-python",
   "name": "python",
   "nbconvert_exporter": "python",
   "pygments_lexer": "ipython3",
   "version": "3.6.1"
  }
 },
 "nbformat": 4,
 "nbformat_minor": 2
}
