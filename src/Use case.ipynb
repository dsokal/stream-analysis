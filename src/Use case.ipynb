{
 "cells": [
  {
   "cell_type": "markdown",
   "metadata": {},
   "source": [
    "# 1. Business understanding"
   ]
  },
  {
   "cell_type": "markdown",
   "metadata": {},
   "source": [
    "### Objectives\n",
    "\n",
    "Predict an order of magnitude of number of retweets of a given tweet posted in California after about 60 minutes. Prediction model should work on a live data stream."
   ]
  },
  {
   "cell_type": "markdown",
   "metadata": {},
   "source": [
    "### Success criteria\n",
    "\n",
    "The project will be considered successful if the resulting model will work with accuracy of 90% or higher. Results should be produced with a delay no bigger than 1 second."
   ]
  },
  {
   "cell_type": "markdown",
   "metadata": {},
   "source": [
    "### Project plan\n",
    "\n",
    "1. Examine the data provided by the Twitter Streaming API.\n",
    "1. Create a sample subset of the stream of tweets posted in California\n",
    "1. After approx. 1 hour enhance the subset with the number of retweets\n",
    "1. Explore the data gathered in the sample\n",
    "1. Build and evaluate models\n",
    "1. Create a spark job that will use the best prediction model\n",
    "1. Deploy the job to the preset spark cluster"
   ]
  },
  {
   "cell_type": "code",
   "execution_count": null,
   "metadata": {
    "collapsed": true
   },
   "outputs": [],
   "source": []
  }
 ],
 "metadata": {
  "kernelspec": {
   "display_name": "Python 3",
   "language": "python",
   "name": "python3"
  },
  "language_info": {
   "codemirror_mode": {
    "name": "ipython",
    "version": 3
   },
   "file_extension": ".py",
   "mimetype": "text/x-python",
   "name": "python",
   "nbconvert_exporter": "python",
   "pygments_lexer": "ipython3",
   "version": "3.6.1"
  }
 },
 "nbformat": 4,
 "nbformat_minor": 2
}
