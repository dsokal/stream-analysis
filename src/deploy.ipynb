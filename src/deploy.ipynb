{
 "cells": [
  {
   "cell_type": "code",
   "execution_count": 1,
   "metadata": {
    "collapsed": true
   },
   "outputs": [],
   "source": [
    "from notebook_client.notebook_client import NotebookClient\n",
    "nc = NotebookClient()\n",
    "nc.initialize_connections()"
   ]
  },
  {
   "cell_type": "markdown",
   "metadata": {},
   "source": [
    "## Populate Kafka topic with some data"
   ]
  },
  {
   "cell_type": "code",
   "execution_count": 2,
   "metadata": {},
   "outputs": [
    {
     "name": "stdout",
     "output_type": "stream",
     "text": [
      "done\n"
     ]
    }
   ],
   "source": [
    "from kafka import KafkaProducer\n",
    "from lib.serializer import value_serializer\n",
    "\n",
    "topic_name = 'my_test_topic'\n",
    "\n",
    "def populate_test_topic():\n",
    "    producer = KafkaProducer(bootstrap_servers='kafka:9092', value_serializer=value_serializer)\n",
    "    for i in range(100):\n",
    "        obj = {'x': i}\n",
    "        producer.send(topic_name, obj)\n",
    "    producer.flush()\n",
    "    producer.close()\n",
    "    print('done')\n",
    "    \n",
    "populate_test_topic()"
   ]
  },
  {
   "cell_type": "markdown",
   "metadata": {},
   "source": [
    "## Write Spark job to file"
   ]
  },
  {
   "cell_type": "code",
   "execution_count": 5,
   "metadata": {},
   "outputs": [
    {
     "name": "stdout",
     "output_type": "stream",
     "text": [
      "Overwriting jobs/test_job.py\n"
     ]
    }
   ],
   "source": [
    "%%writefile jobs/test_job.py\n",
    "\n",
    "import json\n",
    "\n",
    "from pyspark import SparkContext\n",
    "from pyspark.streaming import StreamingContext\n",
    "from pyspark.streaming.kafka import KafkaUtils, TopicAndPartition\n",
    "\n",
    "\n",
    "ENCODING = 'utf-8'\n",
    "\n",
    "def value_deserializer(m):\n",
    "    return json.loads(m.decode(ENCODING))\n",
    "\n",
    "def my_reducer(a, b):\n",
    "    value = a if type(a) == int else a['x']\n",
    "    return value + b['x']\n",
    "\n",
    "def handle_result(rdd):\n",
    "    rdd.foreach(lambda record: print(record))\n",
    "    print('sending...')\n",
    "\n",
    "sc = SparkContext(appName='testApp')\n",
    "ssc = StreamingContext(sc, 10)\n",
    "\n",
    "topicAndPartition = TopicAndPartition('my_test_topic', 0) # topic: my_test_topic, partition: 0\n",
    "fromOffsets = {topicAndPartition: 0} # start from offset: 0\n",
    "\n",
    "kvs = KafkaUtils.createDirectStream(ssc, ['my_test_topic'], {\"metadata.broker.list\": 'kafka:9092'}, valueDecoder=value_deserializer, fromOffsets=fromOffsets)\n",
    "lines = kvs.map(lambda x: x[1]) # first item in tuple is None\n",
    "sums = lines.reduce(my_reducer)\n",
    "sums.foreachRDD(handle_result)\n",
    "\n",
    "ssc.start()\n",
    "ssc.awaitTermination()"
   ]
  },
  {
   "cell_type": "code",
   "execution_count": null,
   "metadata": {
    "collapsed": true
   },
   "outputs": [],
   "source": [
    "## Execute job (and stop)"
   ]
  },
  {
   "cell_type": "code",
   "execution_count": 2,
   "metadata": {},
   "outputs": [
    {
     "data": {
      "text/plain": [
       "4062"
      ]
     },
     "execution_count": 2,
     "metadata": {},
     "output_type": "execute_result"
    }
   ],
   "source": [
    "nc.start_job('jobs/test_job.py')"
   ]
  },
  {
   "cell_type": "code",
   "execution_count": 5,
   "metadata": {},
   "outputs": [
    {
     "data": {
      "text/plain": [
       "'not found'"
      ]
     },
     "execution_count": 5,
     "metadata": {},
     "output_type": "execute_result"
    }
   ],
   "source": [
    "nc.job_status(58)"
   ]
  },
  {
   "cell_type": "code",
   "execution_count": 3,
   "metadata": {},
   "outputs": [
    {
     "data": {
      "text/plain": [
       "'stopped'"
      ]
     },
     "execution_count": 3,
     "metadata": {},
     "output_type": "execute_result"
    }
   ],
   "source": [
    "nc.stop_job(4062)"
   ]
  },
  {
   "cell_type": "code",
   "execution_count": null,
   "metadata": {
    "collapsed": true
   },
   "outputs": [],
   "source": []
  }
 ],
 "metadata": {
  "kernelspec": {
   "display_name": "Python 3",
   "language": "python",
   "name": "python3"
  },
  "language_info": {
   "codemirror_mode": {
    "name": "ipython",
    "version": 3
   },
   "file_extension": ".py",
   "mimetype": "text/x-python",
   "name": "python",
   "nbconvert_exporter": "python",
   "pygments_lexer": "ipython3",
   "version": "3.6.2"
  }
 },
 "nbformat": 4,
 "nbformat_minor": 2
}
