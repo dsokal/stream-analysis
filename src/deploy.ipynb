{
 "cells": [
  {
   "cell_type": "markdown",
   "metadata": {
    "collapsed": true
   },
   "source": [
    "## Initialization"
   ]
  },
  {
   "cell_type": "code",
   "execution_count": 3,
   "metadata": {
    "collapsed": true
   },
   "outputs": [],
   "source": [
    "from notebook_client.notebook_client import NotebookClient\n",
    "nc = NotebookClient()\n",
    "nc.initialize_connections()"
   ]
  },
  {
   "cell_type": "markdown",
   "metadata": {},
   "source": [
    "## Populate Kafka topic with some data"
   ]
  },
  {
   "cell_type": "code",
   "execution_count": 2,
   "metadata": {},
   "outputs": [
    {
     "name": "stdout",
     "output_type": "stream",
     "text": [
      "done\n"
     ]
    }
   ],
   "source": [
    "from kafka import KafkaProducer\n",
    "from lib.serializer import value_serializer\n",
    "\n",
    "topic_name = 'my_test_topic'\n",
    "\n",
    "def populate_test_topic():\n",
    "    producer = KafkaProducer(bootstrap_servers='kafka:9092', value_serializer=value_serializer)\n",
    "    for i in range(100):\n",
    "        obj = {'x': i}\n",
    "        producer.send(topic_name, obj)\n",
    "    producer.flush()\n",
    "    producer.close()\n",
    "    print('done')\n",
    "    \n",
    "populate_test_topic()"
   ]
  },
  {
   "cell_type": "markdown",
   "metadata": {},
   "source": [
    "## Create keyspace and table in Cassandra"
   ]
  },
  {
   "cell_type": "code",
   "execution_count": 2,
   "metadata": {
    "collapsed": true
   },
   "outputs": [],
   "source": [
    "from cassandra.cluster import Cluster\n",
    "\n",
    "cluster = Cluster(['cassandra'])\n",
    "session = cluster.connect()\n",
    "session.execute(\"CREATE KEYSPACE my_keyspace WITH REPLICATION = { 'class' : 'SimpleStrategy', 'replication_factor' : 1 };\")\n",
    "session.set_keyspace('my_keyspace')\n",
    "session.execute(\"CREATE TABLE my_table(id text PRIMARY KEY, x int)\")\n",
    "cluster.shutdown()"
   ]
  },
  {
   "cell_type": "markdown",
   "metadata": {},
   "source": [
    "## Write Spark job to file"
   ]
  },
  {
   "cell_type": "code",
   "execution_count": 1,
   "metadata": {},
   "outputs": [
    {
     "name": "stdout",
     "output_type": "stream",
     "text": [
      "Overwriting jobs/test_job.py\n"
     ]
    }
   ],
   "source": [
    "%%writefile jobs/test_job.py\n",
    "\n",
    "import json\n",
    "import uuid\n",
    "\n",
    "from pyspark import SparkContext\n",
    "from pyspark.streaming import StreamingContext\n",
    "from pyspark.streaming.kafka import KafkaUtils, TopicAndPartition\n",
    "\n",
    "from pyspark_cassandra import streaming\n",
    "\n",
    "\n",
    "ENCODING = 'utf-8'\n",
    "\n",
    "\n",
    "def value_deserializer(m):\n",
    "    return json.loads(m.decode(ENCODING))\n",
    "\n",
    "\n",
    "def add_id(i):\n",
    "    i['id'] = str(uuid.uuid4())\n",
    "    return i\n",
    "\n",
    "\n",
    "def reducer(a, b):\n",
    "    print(a, b)\n",
    "    a['x'] += b['x']\n",
    "    return a\n",
    "\n",
    "\n",
    "sc = SparkContext(appName='testApp')\n",
    "ssc = StreamingContext(sc, 10)\n",
    "\n",
    "topicAndPartition = TopicAndPartition('my_test_topic', 0) # topic: my_test_topic, partition: 0\n",
    "fromOffsets = {topicAndPartition: 0} # start from offset: 0\n",
    "\n",
    "kvs = KafkaUtils.createDirectStream(ssc, ['my_test_topic'], {\"metadata.broker.list\": 'kafka:9092'}, valueDecoder=value_deserializer, fromOffsets=fromOffsets)\n",
    "kvs\\\n",
    "    .map(lambda i: i[1])\\\n",
    "    .reduce(reducer)\\\n",
    "    .map(add_id)\\\n",
    "    .saveToCassandra('my_keyspace', 'my_table')\n",
    "\n",
    "ssc.start()\n",
    "ssc.awaitTermination()"
   ]
  },
  {
   "cell_type": "markdown",
   "metadata": {},
   "source": [
    "## Execute job"
   ]
  },
  {
   "cell_type": "code",
   "execution_count": 4,
   "metadata": {
    "scrolled": true
   },
   "outputs": [
    {
     "data": {
      "text/plain": [
       "715"
      ]
     },
     "execution_count": 4,
     "metadata": {},
     "output_type": "execute_result"
    }
   ],
   "source": [
    "nc.start_job('jobs/test_job.py')"
   ]
  },
  {
   "cell_type": "code",
   "execution_count": 11,
   "metadata": {},
   "outputs": [
    {
     "data": {
      "text/plain": [
       "'not found'"
      ]
     },
     "execution_count": 11,
     "metadata": {},
     "output_type": "execute_result"
    }
   ],
   "source": [
    "nc.job_status(715)"
   ]
  },
  {
   "cell_type": "markdown",
   "metadata": {},
   "source": [
    "## Wait for results to appear in Cassandra"
   ]
  },
  {
   "cell_type": "code",
   "execution_count": 6,
   "metadata": {},
   "outputs": [
    {
     "name": "stdout",
     "output_type": "stream",
     "text": [
      "Row(id='652200eb-39a3-4f45-b2dc-1b4459219f91', x=4950)\n"
     ]
    }
   ],
   "source": [
    "from cassandra.cluster import Cluster\n",
    "\n",
    "cluster = Cluster(['cassandra'])\n",
    "session = cluster.connect('my_keyspace')\n",
    "results = session.execute(\"SELECT * FROM my_table;\")\n",
    "cluster.shutdown()\n",
    "\n",
    "for i in results:\n",
    "    print(i)"
   ]
  },
  {
   "cell_type": "code",
   "execution_count": 10,
   "metadata": {},
   "outputs": [
    {
     "data": {
      "text/plain": [
       "'stopped'"
      ]
     },
     "execution_count": 10,
     "metadata": {},
     "output_type": "execute_result"
    }
   ],
   "source": [
    "nc.stop_job(715)"
   ]
  },
  {
   "cell_type": "code",
   "execution_count": null,
   "metadata": {
    "collapsed": true
   },
   "outputs": [],
   "source": []
  }
 ],
 "metadata": {
  "kernelspec": {
   "display_name": "Python 3",
   "language": "python",
   "name": "python3"
  },
  "language_info": {
   "codemirror_mode": {
    "name": "ipython",
    "version": 3
   },
   "file_extension": ".py",
   "mimetype": "text/x-python",
   "name": "python",
   "nbconvert_exporter": "python",
   "pygments_lexer": "ipython3",
   "version": "3.6.1"
  }
 },
 "nbformat": 4,
 "nbformat_minor": 2
}
