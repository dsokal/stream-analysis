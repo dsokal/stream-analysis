{
 "cells": [
  {
   "cell_type": "code",
   "execution_count": 1,
   "metadata": {
    "collapsed": true
   },
   "outputs": [],
   "source": [
    "import json\n",
    "\n",
    "import pandas as pd\n",
    "import matplotlib.pyplot as plt\n",
    "\n",
    "from notebook_client.notebook_client import NotebookClient"
   ]
  },
  {
   "cell_type": "code",
   "execution_count": 2,
   "metadata": {
    "collapsed": true
   },
   "outputs": [],
   "source": [
    "nc = NotebookClient()\n",
    "nc.initialize_producers_manager_connection()\n",
    "nc.initialize_sampler_manager_connection()"
   ]
  },
  {
   "cell_type": "code",
   "execution_count": 3,
   "metadata": {
    "collapsed": true
   },
   "outputs": [],
   "source": [
    "producer_pid = nc.start_streaming('in_topic', { 'locations': '-74,40,-73,41' })"
   ]
  },
  {
   "cell_type": "code",
   "execution_count": 4,
   "metadata": {
    "collapsed": true
   },
   "outputs": [],
   "source": [
    "reservoir_size = 5\n",
    "limit = 20\n",
    "nc.start_sampling('in_topic', 'out_topic', reservoir_size, limit)"
   ]
  },
  {
   "cell_type": "code",
   "execution_count": 5,
   "metadata": {},
   "outputs": [
    {
     "data": {
      "text/plain": [
       "'running'"
      ]
     },
     "execution_count": 5,
     "metadata": {},
     "output_type": "execute_result"
    }
   ],
   "source": [
    "nc.streaming_status(producer_pid)"
   ]
  },
  {
   "cell_type": "code",
   "execution_count": 6,
   "metadata": {},
   "outputs": [
    {
     "data": {
      "text/plain": [
       "'running'"
      ]
     },
     "execution_count": 6,
     "metadata": {},
     "output_type": "execute_result"
    }
   ],
   "source": [
    "nc.sampling_status()"
   ]
  },
  {
   "cell_type": "code",
   "execution_count": 6,
   "metadata": {},
   "outputs": [
    {
     "data": {
      "text/plain": [
       "'stopped'"
      ]
     },
     "execution_count": 6,
     "metadata": {},
     "output_type": "execute_result"
    }
   ],
   "source": [
    "nc.stop_streaming(producer_pid)"
   ]
  },
  {
   "cell_type": "code",
   "execution_count": 7,
   "metadata": {
    "collapsed": true
   },
   "outputs": [],
   "source": [
    "from kafka import KafkaConsumer\n",
    "\n",
    "consumer = KafkaConsumer('out_topic', bootstrap_servers='kafka')\n",
    "consumer.topics()\n",
    "partition = consumer.assignment().pop()"
   ]
  },
  {
   "cell_type": "code",
   "execution_count": 8,
   "metadata": {
    "collapsed": true
   },
   "outputs": [],
   "source": [
    "consumer.seek_to_end()"
   ]
  },
  {
   "cell_type": "code",
   "execution_count": 9,
   "metadata": {
    "collapsed": true
   },
   "outputs": [],
   "source": [
    "end = consumer.position(partition)\n",
    "consumer.seek(partition, end - reservoir_size)"
   ]
  },
  {
   "cell_type": "code",
   "execution_count": 10,
   "metadata": {},
   "outputs": [
    {
     "data": {
      "text/plain": [
       "0"
      ]
     },
     "execution_count": 10,
     "metadata": {},
     "output_type": "execute_result"
    }
   ],
   "source": [
    "consumer.position(partition)"
   ]
  },
  {
   "cell_type": "code",
   "execution_count": 11,
   "metadata": {
    "collapsed": true,
    "scrolled": true
   },
   "outputs": [],
   "source": [
    "get_value = lambda c: c.__next__().value.decode('utf-8')\n",
    "data = [get_value(consumer) for i in range(reservoir_size)]"
   ]
  },
  {
   "cell_type": "code",
   "execution_count": 12,
   "metadata": {
    "collapsed": true
   },
   "outputs": [],
   "source": [
    "parsed_data = list(map(lambda x: json.loads(x), data))"
   ]
  },
  {
   "cell_type": "code",
   "execution_count": 13,
   "metadata": {
    "collapsed": true
   },
   "outputs": [],
   "source": [
    "df = pd.DataFrame.from_records(data=parsed_data)\n",
    "df['created_at'] = pd.to_datetime(df['created_at'])\n",
    "df.index = df.created_at\n",
    "del df['created_at']"
   ]
  },
  {
   "cell_type": "code",
   "execution_count": 28,
   "metadata": {},
   "outputs": [
    {
     "data": {
      "text/html": [
       "<div>\n",
       "<table border=\"1\" class=\"dataframe\">\n",
       "  <thead>\n",
       "    <tr style=\"text-align: right;\">\n",
       "      <th></th>\n",
       "      <th>text</th>\n",
       "      <th>user_favourites_count</th>\n",
       "      <th>user_friends_count</th>\n",
       "      <th>user_id</th>\n",
       "      <th>user_name</th>\n",
       "      <th>user_verified</th>\n",
       "    </tr>\n",
       "    <tr>\n",
       "      <th>created_at</th>\n",
       "      <th></th>\n",
       "      <th></th>\n",
       "      <th></th>\n",
       "      <th></th>\n",
       "      <th></th>\n",
       "      <th></th>\n",
       "    </tr>\n",
       "  </thead>\n",
       "  <tbody>\n",
       "    <tr>\n",
       "      <th>2017-07-26 19:46:15</th>\n",
       "      <td>See our latest #NewYork, NY #job and click to ...</td>\n",
       "      <td>0</td>\n",
       "      <td>326</td>\n",
       "      <td>20832061</td>\n",
       "      <td>NYC Sales Jobs</td>\n",
       "      <td>False</td>\n",
       "    </tr>\n",
       "    <tr>\n",
       "      <th>2017-07-26 19:46:20</th>\n",
       "      <td>Just posted a photo @ Lower East Side https://...</td>\n",
       "      <td>539</td>\n",
       "      <td>787</td>\n",
       "      <td>750370596</td>\n",
       "      <td>BK 1</td>\n",
       "      <td>False</td>\n",
       "    </tr>\n",
       "    <tr>\n",
       "      <th>2017-07-26 19:46:26</th>\n",
       "      <td>Este domingo llegamos a sahara_cafe con el dal...</td>\n",
       "      <td>471</td>\n",
       "      <td>1622</td>\n",
       "      <td>28223933</td>\n",
       "      <td>El Klan Perfecto</td>\n",
       "      <td>False</td>\n",
       "    </tr>\n",
       "    <tr>\n",
       "      <th>2017-07-26 19:46:35</th>\n",
       "      <td>What do you call a self-absorbed lobster?\\n\\nA...</td>\n",
       "      <td>3972</td>\n",
       "      <td>131</td>\n",
       "      <td>843528421284233220</td>\n",
       "      <td>wil, son.</td>\n",
       "      <td>False</td>\n",
       "    </tr>\n",
       "    <tr>\n",
       "      <th>2017-07-26 19:46:36</th>\n",
       "      <td>Well firing Mueller will be the nail in his lo...</td>\n",
       "      <td>43151</td>\n",
       "      <td>25916</td>\n",
       "      <td>739844197935644672</td>\n",
       "      <td>Andrew Wortman</td>\n",
       "      <td>False</td>\n",
       "    </tr>\n",
       "  </tbody>\n",
       "</table>\n",
       "</div>"
      ],
      "text/plain": [
       "                                                                  text  \\\n",
       "created_at                                                               \n",
       "2017-07-26 19:46:15  See our latest #NewYork, NY #job and click to ...   \n",
       "2017-07-26 19:46:20  Just posted a photo @ Lower East Side https://...   \n",
       "2017-07-26 19:46:26  Este domingo llegamos a sahara_cafe con el dal...   \n",
       "2017-07-26 19:46:35  What do you call a self-absorbed lobster?\\n\\nA...   \n",
       "2017-07-26 19:46:36  Well firing Mueller will be the nail in his lo...   \n",
       "\n",
       "                     user_favourites_count  user_friends_count  \\\n",
       "created_at                                                       \n",
       "2017-07-26 19:46:15                      0                 326   \n",
       "2017-07-26 19:46:20                    539                 787   \n",
       "2017-07-26 19:46:26                    471                1622   \n",
       "2017-07-26 19:46:35                   3972                 131   \n",
       "2017-07-26 19:46:36                  43151               25916   \n",
       "\n",
       "                                user_id         user_name user_verified  \n",
       "created_at                                                               \n",
       "2017-07-26 19:46:15            20832061    NYC Sales Jobs         False  \n",
       "2017-07-26 19:46:20           750370596              BK 1         False  \n",
       "2017-07-26 19:46:26            28223933  El Klan Perfecto         False  \n",
       "2017-07-26 19:46:35  843528421284233220         wil, son.         False  \n",
       "2017-07-26 19:46:36  739844197935644672    Andrew Wortman         False  "
      ]
     },
     "execution_count": 28,
     "metadata": {},
     "output_type": "execute_result"
    }
   ],
   "source": [
    "df"
   ]
  },
  {
   "cell_type": "code",
   "execution_count": 14,
   "metadata": {},
   "outputs": [
    {
     "data": {
      "text/html": [
       "<div>\n",
       "<table border=\"1\" class=\"dataframe\">\n",
       "  <thead>\n",
       "    <tr style=\"text-align: right;\">\n",
       "      <th></th>\n",
       "      <th>user_favourites_count</th>\n",
       "      <th>user_friends_count</th>\n",
       "      <th>user_id</th>\n",
       "    </tr>\n",
       "  </thead>\n",
       "  <tbody>\n",
       "    <tr>\n",
       "      <th>count</th>\n",
       "      <td>5.000000</td>\n",
       "      <td>5.000000</td>\n",
       "      <td>5.000000e+00</td>\n",
       "    </tr>\n",
       "    <tr>\n",
       "      <th>mean</th>\n",
       "      <td>206.200000</td>\n",
       "      <td>236.800000</td>\n",
       "      <td>1.636778e+08</td>\n",
       "    </tr>\n",
       "    <tr>\n",
       "      <th>std</th>\n",
       "      <td>283.799577</td>\n",
       "      <td>102.238447</td>\n",
       "      <td>2.335048e+08</td>\n",
       "    </tr>\n",
       "    <tr>\n",
       "      <th>min</th>\n",
       "      <td>0.000000</td>\n",
       "      <td>101.000000</td>\n",
       "      <td>1.828650e+07</td>\n",
       "    </tr>\n",
       "    <tr>\n",
       "      <th>25%</th>\n",
       "      <td>0.000000</td>\n",
       "      <td>156.000000</td>\n",
       "      <td>2.572243e+07</td>\n",
       "    </tr>\n",
       "    <tr>\n",
       "      <th>50%</th>\n",
       "      <td>0.000000</td>\n",
       "      <td>284.000000</td>\n",
       "      <td>7.172096e+07</td>\n",
       "    </tr>\n",
       "    <tr>\n",
       "      <th>75%</th>\n",
       "      <td>475.000000</td>\n",
       "      <td>310.000000</td>\n",
       "      <td>1.287928e+08</td>\n",
       "    </tr>\n",
       "    <tr>\n",
       "      <th>max</th>\n",
       "      <td>556.000000</td>\n",
       "      <td>333.000000</td>\n",
       "      <td>5.738664e+08</td>\n",
       "    </tr>\n",
       "  </tbody>\n",
       "</table>\n",
       "</div>"
      ],
      "text/plain": [
       "       user_favourites_count  user_friends_count       user_id\n",
       "count               5.000000            5.000000  5.000000e+00\n",
       "mean              206.200000          236.800000  1.636778e+08\n",
       "std               283.799577          102.238447  2.335048e+08\n",
       "min                 0.000000          101.000000  1.828650e+07\n",
       "25%                 0.000000          156.000000  2.572243e+07\n",
       "50%                 0.000000          284.000000  7.172096e+07\n",
       "75%               475.000000          310.000000  1.287928e+08\n",
       "max               556.000000          333.000000  5.738664e+08"
      ]
     },
     "execution_count": 14,
     "metadata": {},
     "output_type": "execute_result"
    }
   ],
   "source": [
    "df.describe()"
   ]
  },
  {
   "cell_type": "code",
   "execution_count": 15,
   "metadata": {
    "collapsed": true
   },
   "outputs": [],
   "source": [
    "#text_lengths = df.text.map(lambda x: len(x.split(' ')))\n",
    "text_lengths = df.text.map(len)"
   ]
  },
  {
   "cell_type": "code",
   "execution_count": 16,
   "metadata": {},
   "outputs": [
    {
     "data": {
      "text/plain": [
       "count      5.000000\n",
       "mean      99.200000\n",
       "std       45.091019\n",
       "min       45.000000\n",
       "25%       55.000000\n",
       "50%      129.000000\n",
       "75%      133.000000\n",
       "max      134.000000\n",
       "Name: text, dtype: float64"
      ]
     },
     "execution_count": 16,
     "metadata": {},
     "output_type": "execute_result"
    }
   ],
   "source": [
    "text_lengths.describe()"
   ]
  },
  {
   "cell_type": "code",
   "execution_count": 17,
   "metadata": {},
   "outputs": [
    {
     "data": {
      "image/png": "[encoded data removed]",
      "text/plain": [
       "<matplotlib.figure.Figure at 0x7f4332502710>"
      ]
     },
     "metadata": {},
     "output_type": "display_data"
    }
   ],
   "source": [
    "text_lengths.plot(grid=True)\n",
    "plt.show()"
   ]
  },
  {
   "cell_type": "code",
   "execution_count": 18,
   "metadata": {
    "collapsed": true
   },
   "outputs": [],
   "source": [
    "import pyspark\n",
    "\n",
    "sc = pyspark.SparkContext('local[*]')\n",
    "sqlc = pyspark.sql.SQLContext(sc)"
   ]
  },
  {
   "cell_type": "code",
   "execution_count": 19,
   "metadata": {
    "collapsed": true
   },
   "outputs": [],
   "source": [
    "spark_df = sqlc.createDataFrame(df)"
   ]
  },
  {
   "cell_type": "code",
   "execution_count": 20,
   "metadata": {
    "collapsed": true
   },
   "outputs": [],
   "source": [
    "import pyspark.mllib.regression as mllib_reg\n",
    "import pyspark.mllib.linalg as mllib_lalg\n",
    "import pyspark.mllib.classification as mllib_class"
   ]
  },
  {
   "cell_type": "code",
   "execution_count": 21,
   "metadata": {
    "collapsed": true
   },
   "outputs": [],
   "source": [
    "data_labeled = spark_df.rdd.map(lambda fields: mllib_reg.LabeledPoint(fields[-1], mllib_lalg.Vectors.dense(fields[2:4])))"
   ]
  },
  {
   "cell_type": "code",
   "execution_count": 22,
   "metadata": {
    "collapsed": true
   },
   "outputs": [],
   "source": [
    "train, test = data_labeled.randomSplit([0.65, 0.35], seed = 13)"
   ]
  },
  {
   "cell_type": "code",
   "execution_count": 23,
   "metadata": {
    "collapsed": true
   },
   "outputs": [],
   "source": [
    "nbay = mllib_class.NaiveBayes.train(train, 1.0)"
   ]
  },
  {
   "cell_type": "code",
   "execution_count": 24,
   "metadata": {
    "collapsed": true
   },
   "outputs": [],
   "source": [
    "predictionAndLabel = test.map(lambda p : (nbay.predict(p.features), p.label))"
   ]
  },
  {
   "cell_type": "code",
   "execution_count": 25,
   "metadata": {
    "collapsed": true
   },
   "outputs": [],
   "source": [
    "testErr = predictionAndLabel.filter(lambda x: x[0] != x[1]).count() / test.count()\n",
    "accuracy = 100.0 * predictionAndLabel.filter(lambda x: x[0] == x[1]).count() / test.count()"
   ]
  },
  {
   "cell_type": "code",
   "execution_count": 26,
   "metadata": {},
   "outputs": [
    {
     "name": "stdout",
     "output_type": "stream",
     "text": [
      "Accuracy: 50.0%\n"
     ]
    }
   ],
   "source": [
    "print('Accuracy: {0}%'.format(accuracy))"
   ]
  },
  {
   "cell_type": "code",
   "execution_count": 27,
   "metadata": {},
   "outputs": [
    {
     "data": {
      "text/plain": [
       "<pyspark.mllib.classification.NaiveBayesModel at 0x7f4332400128>"
      ]
     },
     "execution_count": 27,
     "metadata": {},
     "output_type": "execute_result"
    }
   ],
   "source": [
    "nbay"
   ]
  },
  {
   "cell_type": "code",
   "execution_count": null,
   "metadata": {
    "collapsed": true
   },
   "outputs": [],
   "source": []
  }
 ],
 "metadata": {
  "kernelspec": {
   "display_name": "Python 3",
   "language": "python",
   "name": "python3"
  },
  "language_info": {
   "codemirror_mode": {
    "name": "ipython",
    "version": 3
   },
   "file_extension": ".py",
   "mimetype": "text/x-python",
   "name": "python",
   "nbconvert_exporter": "python",
   "pygments_lexer": "ipython3",
   "version": "3.6.1"
  }
 },
 "nbformat": 4,
 "nbformat_minor": 2
}
