{
 "cells": [
  {
   "cell_type": "code",
   "execution_count": 1,
   "metadata": {},
   "outputs": [],
   "source": [
    "import json\n",
    "\n",
    "import pandas as pd\n",
    "import matplotlib.pyplot as plt\n",
    "\n",
    "from notebook_client.notebook_client import NotebookClient"
   ]
  },
  {
   "cell_type": "code",
   "execution_count": 2,
   "metadata": {
    "collapsed": true
   },
   "outputs": [],
   "source": [
    "nc = NotebookClient()\n",
    "nc.initialize_producers_manager_connection()\n",
    "nc.initialize_sampler_manager_connection()"
   ]
  },
  {
   "cell_type": "code",
   "execution_count": 3,
   "metadata": {
    "collapsed": true
   },
   "outputs": [],
   "source": [
    "producer_pid = nc.start_streaming('input_topic', { 'locations': '-74,40,-73,41' })\n"
   ]
  },
  {
   "cell_type": "code",
   "execution_count": 7,
   "metadata": {
    "collapsed": true
   },
   "outputs": [],
   "source": [
    "reservoir_size = 5\n",
    "limit = 20\n",
    "nc.start_sampling('input_topic', 'output_topic', reservoir_size, limit)"
   ]
  },
  {
   "cell_type": "code",
   "execution_count": 6,
   "metadata": {},
   "outputs": [
    {
     "data": {
      "text/plain": [
       "'running'"
      ]
     },
     "execution_count": 6,
     "metadata": {},
     "output_type": "execute_result"
    }
   ],
   "source": [
    "nc.streaming_status(producer_pid)"
   ]
  },
  {
   "cell_type": "code",
   "execution_count": 14,
   "metadata": {},
   "outputs": [
    {
     "data": {
      "text/plain": [
       "'running'"
      ]
     },
     "execution_count": 14,
     "metadata": {},
     "output_type": "execute_result"
    }
   ],
   "source": [
    "nc.sampling_status()"
   ]
  },
  {
   "cell_type": "code",
   "execution_count": 85,
   "metadata": {},
   "outputs": [
    {
     "data": {
      "text/plain": [
       "'stopped'"
      ]
     },
     "execution_count": 85,
     "metadata": {},
     "output_type": "execute_result"
    }
   ],
   "source": [
    "nc.stop_streaming(producer_pid)"
   ]
  },
  {
   "cell_type": "code",
   "execution_count": 15,
   "metadata": {
    "collapsed": true
   },
   "outputs": [],
   "source": [
    "from kafka import KafkaConsumer\n",
    "\n",
    "consumer = KafkaConsumer('output_topic', bootstrap_servers='localhost')\n",
    "consumer.topics()\n",
    "partition = consumer.assignment().pop()"
   ]
  },
  {
   "cell_type": "code",
   "execution_count": 20,
   "metadata": {
    "collapsed": true
   },
   "outputs": [],
   "source": [
    "consumer.seek_to_end()"
   ]
  },
  {
   "cell_type": "code",
   "execution_count": 18,
   "metadata": {
    "collapsed": true
   },
   "outputs": [],
   "source": [
    "consumer.seek_to_beginning()"
   ]
  },
  {
   "cell_type": "code",
   "execution_count": 21,
   "metadata": {
    "collapsed": true
   },
   "outputs": [],
   "source": [
    "end = consumer.position(partition)\n",
    "consumer.seek(partition, end - reservoir_size)"
   ]
  },
  {
   "cell_type": "code",
   "execution_count": 22,
   "metadata": {},
   "outputs": [
    {
     "data": {
      "text/plain": [
       "0"
      ]
     },
     "execution_count": 22,
     "metadata": {},
     "output_type": "execute_result"
    }
   ],
   "source": [
    "consumer.position(partition)"
   ]
  },
  {
   "cell_type": "code",
   "execution_count": 23,
   "metadata": {
    "collapsed": true,
    "scrolled": true
   },
   "outputs": [],
   "source": [
    "get_value = lambda c: c.__next__().value.decode('utf-8')\n",
    "data = [get_value(consumer) for i in range(reservoir_size)]"
   ]
  },
  {
   "cell_type": "code",
   "execution_count": 24,
   "metadata": {
    "collapsed": true
   },
   "outputs": [],
   "source": [
    "parsed_data = list(map(lambda x: json.loads(x), data))"
   ]
  },
  {
   "cell_type": "code",
   "execution_count": 25,
   "metadata": {
    "collapsed": true
   },
   "outputs": [],
   "source": [
    "df = pd.DataFrame.from_records(data=parsed_data)\n",
    "df['created_at'] = pd.to_datetime(df['created_at'])\n",
    "df.index = df.created_at\n",
    "del df['created_at']"
   ]
  },
  {
   "cell_type": "code",
   "execution_count": 26,
   "metadata": {},
   "outputs": [
    {
     "data": {
      "text/html": [
       "<div>\n",
       "<style>\n",
       "    .dataframe thead tr:only-child th {\n",
       "        text-align: right;\n",
       "    }\n",
       "\n",
       "    .dataframe thead th {\n",
       "        text-align: left;\n",
       "    }\n",
       "\n",
       "    .dataframe tbody tr th {\n",
       "        vertical-align: top;\n",
       "    }\n",
       "</style>\n",
       "<table border=\"1\" class=\"dataframe\">\n",
       "  <thead>\n",
       "    <tr style=\"text-align: right;\">\n",
       "      <th></th>\n",
       "      <th>text</th>\n",
       "      <th>user_favourites_count</th>\n",
       "      <th>user_friends_count</th>\n",
       "      <th>user_id</th>\n",
       "      <th>user_name</th>\n",
       "      <th>user_verified</th>\n",
       "    </tr>\n",
       "    <tr>\n",
       "      <th>created_at</th>\n",
       "      <th></th>\n",
       "      <th></th>\n",
       "      <th></th>\n",
       "      <th></th>\n",
       "      <th></th>\n",
       "      <th></th>\n",
       "    </tr>\n",
       "  </thead>\n",
       "  <tbody>\n",
       "    <tr>\n",
       "      <th>2017-06-29 07:46:17</th>\n",
       "      <td>Favorite thing about my Wednesday nights/Thurs...</td>\n",
       "      <td>8246</td>\n",
       "      <td>209</td>\n",
       "      <td>2942262972</td>\n",
       "      <td>e.</td>\n",
       "      <td>False</td>\n",
       "    </tr>\n",
       "    <tr>\n",
       "      <th>2017-06-29 07:46:23</th>\n",
       "      <td>I need to get some comics 👀anybody know where ...</td>\n",
       "      <td>9456</td>\n",
       "      <td>1045</td>\n",
       "      <td>498412609</td>\n",
       "      <td>R€B€L</td>\n",
       "      <td>False</td>\n",
       "    </tr>\n",
       "    <tr>\n",
       "      <th>2017-06-29 07:46:39</th>\n",
       "      <td>Happy birthday to my beautiful sister!! Wish y...</td>\n",
       "      <td>240</td>\n",
       "      <td>392</td>\n",
       "      <td>759629563</td>\n",
       "      <td>LIVE THE LIFE🇯🇲</td>\n",
       "      <td>False</td>\n",
       "    </tr>\n",
       "    <tr>\n",
       "      <th>2017-06-29 07:46:40</th>\n",
       "      <td>Cleared: Incident on #NY135 SB from Exit 14E -...</td>\n",
       "      <td>0</td>\n",
       "      <td>202</td>\n",
       "      <td>50706690</td>\n",
       "      <td>511 New York</td>\n",
       "      <td>False</td>\n",
       "    </tr>\n",
       "    <tr>\n",
       "      <th>2017-06-29 07:46:42</th>\n",
       "      <td>😭😭😭😭😭😭😭</td>\n",
       "      <td>5592</td>\n",
       "      <td>3211</td>\n",
       "      <td>305911626</td>\n",
       "      <td>yesblaze</td>\n",
       "      <td>False</td>\n",
       "    </tr>\n",
       "  </tbody>\n",
       "</table>\n",
       "</div>"
      ],
      "text/plain": [
       "                                                                  text  \\\n",
       "created_at                                                               \n",
       "2017-06-29 07:46:17  Favorite thing about my Wednesday nights/Thurs...   \n",
       "2017-06-29 07:46:23  I need to get some comics 👀anybody know where ...   \n",
       "2017-06-29 07:46:39  Happy birthday to my beautiful sister!! Wish y...   \n",
       "2017-06-29 07:46:40  Cleared: Incident on #NY135 SB from Exit 14E -...   \n",
       "2017-06-29 07:46:42                                            😭😭😭😭😭😭😭   \n",
       "\n",
       "                     user_favourites_count  user_friends_count     user_id  \\\n",
       "created_at                                                                   \n",
       "2017-06-29 07:46:17                   8246                 209  2942262972   \n",
       "2017-06-29 07:46:23                   9456                1045   498412609   \n",
       "2017-06-29 07:46:39                    240                 392   759629563   \n",
       "2017-06-29 07:46:40                      0                 202    50706690   \n",
       "2017-06-29 07:46:42                   5592                3211   305911626   \n",
       "\n",
       "                           user_name  user_verified  \n",
       "created_at                                           \n",
       "2017-06-29 07:46:17               e.          False  \n",
       "2017-06-29 07:46:23            R€B€L          False  \n",
       "2017-06-29 07:46:39  LIVE THE LIFE🇯🇲          False  \n",
       "2017-06-29 07:46:40     511 New York          False  \n",
       "2017-06-29 07:46:42         yesblaze          False  "
      ]
     },
     "execution_count": 26,
     "metadata": {},
     "output_type": "execute_result"
    }
   ],
   "source": [
    "df"
   ]
  },
  {
   "cell_type": "code",
   "execution_count": 27,
   "metadata": {},
   "outputs": [
    {
     "data": {
      "text/html": [
       "<div>\n",
       "<style>\n",
       "    .dataframe thead tr:only-child th {\n",
       "        text-align: right;\n",
       "    }\n",
       "\n",
       "    .dataframe thead th {\n",
       "        text-align: left;\n",
       "    }\n",
       "\n",
       "    .dataframe tbody tr th {\n",
       "        vertical-align: top;\n",
       "    }\n",
       "</style>\n",
       "<table border=\"1\" class=\"dataframe\">\n",
       "  <thead>\n",
       "    <tr style=\"text-align: right;\">\n",
       "      <th></th>\n",
       "      <th>user_favourites_count</th>\n",
       "      <th>user_friends_count</th>\n",
       "      <th>user_id</th>\n",
       "    </tr>\n",
       "  </thead>\n",
       "  <tbody>\n",
       "    <tr>\n",
       "      <th>count</th>\n",
       "      <td>5.000000</td>\n",
       "      <td>5.000000</td>\n",
       "      <td>5.000000e+00</td>\n",
       "    </tr>\n",
       "    <tr>\n",
       "      <th>mean</th>\n",
       "      <td>4706.800000</td>\n",
       "      <td>1011.800000</td>\n",
       "      <td>9.113847e+08</td>\n",
       "    </tr>\n",
       "    <tr>\n",
       "      <th>std</th>\n",
       "      <td>4415.050532</td>\n",
       "      <td>1276.910216</td>\n",
       "      <td>1.164625e+09</td>\n",
       "    </tr>\n",
       "    <tr>\n",
       "      <th>min</th>\n",
       "      <td>0.000000</td>\n",
       "      <td>202.000000</td>\n",
       "      <td>5.070669e+07</td>\n",
       "    </tr>\n",
       "    <tr>\n",
       "      <th>25%</th>\n",
       "      <td>240.000000</td>\n",
       "      <td>209.000000</td>\n",
       "      <td>3.059116e+08</td>\n",
       "    </tr>\n",
       "    <tr>\n",
       "      <th>50%</th>\n",
       "      <td>5592.000000</td>\n",
       "      <td>392.000000</td>\n",
       "      <td>4.984126e+08</td>\n",
       "    </tr>\n",
       "    <tr>\n",
       "      <th>75%</th>\n",
       "      <td>8246.000000</td>\n",
       "      <td>1045.000000</td>\n",
       "      <td>7.596296e+08</td>\n",
       "    </tr>\n",
       "    <tr>\n",
       "      <th>max</th>\n",
       "      <td>9456.000000</td>\n",
       "      <td>3211.000000</td>\n",
       "      <td>2.942263e+09</td>\n",
       "    </tr>\n",
       "  </tbody>\n",
       "</table>\n",
       "</div>"
      ],
      "text/plain": [
       "       user_favourites_count  user_friends_count       user_id\n",
       "count               5.000000            5.000000  5.000000e+00\n",
       "mean             4706.800000         1011.800000  9.113847e+08\n",
       "std              4415.050532         1276.910216  1.164625e+09\n",
       "min                 0.000000          202.000000  5.070669e+07\n",
       "25%               240.000000          209.000000  3.059116e+08\n",
       "50%              5592.000000          392.000000  4.984126e+08\n",
       "75%              8246.000000         1045.000000  7.596296e+08\n",
       "max              9456.000000         3211.000000  2.942263e+09"
      ]
     },
     "execution_count": 27,
     "metadata": {},
     "output_type": "execute_result"
    }
   ],
   "source": [
    "df.describe()"
   ]
  },
  {
   "cell_type": "code",
   "execution_count": 29,
   "metadata": {
    "collapsed": true
   },
   "outputs": [],
   "source": [
    "#text_lengths = df.text.map(lambda x: len(x.split(' ')))\n",
    "text_lengths = df.text.map(len)"
   ]
  },
  {
   "cell_type": "code",
   "execution_count": 95,
   "metadata": {},
   "outputs": [
    {
     "data": {
      "text/plain": [
       "count      5.00000\n",
       "mean     103.60000\n",
       "std       29.25406\n",
       "min       53.00000\n",
       "25%      107.00000\n",
       "50%      111.00000\n",
       "75%      122.00000\n",
       "max      125.00000\n",
       "Name: text, dtype: float64"
      ]
     },
     "execution_count": 95,
     "metadata": {},
     "output_type": "execute_result"
    }
   ],
   "source": [
    "text_lengths.describe()"
   ]
  },
  {
   "cell_type": "code",
   "execution_count": 30,
   "metadata": {},
   "outputs": [
    {
     "data": {
      "image/png": "[encoded data removed]",
      "text/plain": [
       "<matplotlib.figure.Figure at 0x7f07a8c70ef0>"
      ]
     },
     "metadata": {},
     "output_type": "display_data"
    }
   ],
   "source": [
    "text_lengths.plot(grid=True)\n",
    "plt.show()"
   ]
  },
  {
   "cell_type": "code",
   "execution_count": null,
   "metadata": {
    "collapsed": true
   },
   "outputs": [],
   "source": []
  }
 ],
 "metadata": {
  "kernelspec": {
   "display_name": "Python 3",
   "language": "python",
   "name": "python3"
  },
  "language_info": {
   "codemirror_mode": {
    "name": "ipython",
    "version": 3
   },
   "file_extension": ".py",
   "mimetype": "text/x-python",
   "name": "python",
   "nbconvert_exporter": "python",
   "pygments_lexer": "ipython3",
   "version": "3.6.1"
  }
 },
 "nbformat": 4,
 "nbformat_minor": 2
}
